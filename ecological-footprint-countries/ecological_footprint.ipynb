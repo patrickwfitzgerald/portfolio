{
 "cells": [
  {
   "cell_type": "code",
   "execution_count": 1,
   "metadata": {
    "hide_input": false,
    "scrolled": true
   },
   "outputs": [],
   "source": [
    "%%html\n",
    "<style>\n",
    "p {\n",
    "    max-width: 45em;\n",
    "    word-wrap: break-word;\n",
    "    }\n",
    "li{\n",
    "    max-width: 40em;\n",
    "    word-wrap: break-word;\n",
    "    margin:0 0 5px 0;\n",
    "    }\n",
    ".output {\n",
    "    margin:0px 0px 0px 100px;\n",
    "    }\n",
    ".output_png {\n",
    "    display: table-cell;\n",
    "    text-align: center;\n",
    "    vertical-align: middle;\n",
    "    margin:10px 0px 30px -30px;\n",
    "    }\n",
    "</style>"
   ]
  },
  {
   "cell_type": "markdown",
   "metadata": {},
   "source": [
    "<br>\n",
    "<br>\n",
    "<p style=\"text-align:center; font-family: Arial; max-width: 65em\">\n",
    "<font size=6>Ecological Footprint and Human Development Index 2016</font>\n",
    "<br>\n",
    "<br>\n",
    "<br></p>"
   ]
  },
  {
   "cell_type": "code",
   "execution_count": 2,
   "metadata": {},
   "outputs": [
    {
     "name": "stdout",
     "output_type": "stream",
     "text": [
      "PACKAGE              VERSION\n",
      "Python               3.8.5\n",
      "requests             2.24.0\n",
      "json                 2.0.9\n",
      "re                   2.2.1\n",
      "numpy                1.19.2\n",
      "pandas               1.1.3\n",
      "seaborn              0.11.0\n",
      "altair               4.1.0\n"
     ]
    }
   ],
   "source": [
    "# Import packages and set package parameters\n",
    "import os\n",
    "import requests\n",
    "from bs4 import BeautifulSoup\n",
    "import json\n",
    "import re\n",
    "from math import sqrt, floor, ceil\n",
    "import numpy as np\n",
    "import pandas as pd\n",
    "pd.set_option('precision',2) # Limit number of significant figures displayed in outputs\n",
    "# pd.set_option('display.max_rows', None) # Display full pd.DataFrame\n",
    "import matplotlib.pyplot as plt\n",
    "plt.rcParams['figure.figsize'] = (10,6) # Set default figure size in inches (width, height)\n",
    "import seaborn as sns\n",
    "import altair as alt\n",
    "\n",
    "pyv = !python --version\n",
    "print(f'{\"PACKAGE\":<20} VERSION')\n",
    "print(f'{\"Python\":<20} {str(pyv[0]).split()[1]}')\n",
    "print('\\n'.join(f'{m.__name__:<20} {m.__version__}' for m in globals().values() if getattr(m, '__version__', None)))"
   ]
  },
  {
   "cell_type": "markdown",
   "metadata": {
    "toc": true
   },
   "source": [
    "<h1>Table of Contents<span class=\"tocSkip\"></span></h1>\n",
    "<div class=\"toc\"><ul class=\"toc-item\"><li><span><a href=\"#1.-Introduction\" data-toc-modified-id=\"1.-Introduction-1\">1. Introduction</a></span></li><li><span><a href=\"#2.-Data-extraction-and-preparation\" data-toc-modified-id=\"2.-Data-extraction-and-preparation-2\">2. Data extraction and preparation</a></span><ul class=\"toc-item\"><li><span><a href=\"#2.1-Import-data-through-the-GFN-API\" data-toc-modified-id=\"2.1-Import-data-through-the-GFN-API-2.1\">2.1 Import data through the GFN API</a></span></li><li><span><a href=\"#2.2-Import-list-of-independent-States-by-scraping-online-HTML-table\" data-toc-modified-id=\"2.2-Import-list-of-independent-States-by-scraping-online-HTML-table-2.2\">2.2 Import list of independent States by scraping online HTML table</a></span></li><li><span><a href=\"#2.3-Import-list-of-countries-with-regions-from-GitHub-repository\" data-toc-modified-id=\"2.3-Import-list-of-countries-with-regions-from-GitHub-repository-2.3\">2.3 Import list of countries with regions from GitHub repository</a></span></li></ul></li><li><span><a href=\"#3.-Data-analysis\" data-toc-modified-id=\"3.-Data-analysis-3\">3. Data analysis</a></span><ul class=\"toc-item\"><li><span><a href=\"#3.1-Ecological-Footprint-by-continent\" data-toc-modified-id=\"3.1-Ecological-Footprint-by-continent-3.1\">3.1 Ecological Footprint by continent</a></span></li><li><span><a href=\"#3.2-Human-Development-Index-by-continent\" data-toc-modified-id=\"3.2-Human-Development-Index-by-continent-3.2\">3.2 Human Development Index by continent</a></span></li><li><span><a href=\"#3.3-Ecological-Footprint-vs-Human-Development-Index\" data-toc-modified-id=\"3.3-Ecological-Footprint-vs-Human-Development-Index-3.3\">3.3 Ecological Footprint vs Human Development Index</a></span></li><li><span><a href=\"#3.4-Development-efficiency\" data-toc-modified-id=\"3.4-Development-efficiency-3.4\">3.4 Development efficiency</a></span></li></ul></li><li><span><a href=\"#4.-Conclusion\" data-toc-modified-id=\"4.-Conclusion-4\">4. Conclusion</a></span></li></ul></div>"
   ]
  },
  {
   "cell_type": "markdown",
   "metadata": {},
   "source": [
    "# 1. Introduction"
   ]
  },
  {
   "cell_type": "markdown",
   "metadata": {},
   "source": [
    "The goal of this data analysis is to study the relationship between the ecological footprint (EF) and the Human Development Index (HDI) of countries worldwide using the latest data available which dates from 2016 (as of October 2020).\n",
    "\n",
    "The EF measures the surface area needed to provide the resources necessary to meet consumer demand in any given country. This includes the surface area used for food crops, fiber production, timber regeneration, absorption of  carbon dioxide emissions from fossil fuel burning, and built infrastructure. Imports and exports are taken into account. Further details can be found [here](https://www.footprintnetwork.org/resources/data/). This indicator is provided by the *Global Footprint Network* (GFN), a non-profit organization whose mission is to help end ecological overshoot by making ecological limits central to decision-making.\n",
    "\n",
    "The HDI measures the level of development of a country by combining indices that assess three key dimensions: health, education and standard of living. Health is assessed by life expectancy at birth, education is measured by mean of years of schooling for adults aged 25 years and more and expected years of schooling for children of school entering age. Standard of living is measured by gross national income per capita. Further details can be found [here](http://hdr.undp.org/en/content/human-development-index-hdi). The HDI is calculated by the *United Nations Development Programme* using data from various sources.\n",
    "\n",
    "This notebook presents the entire data analysis process starting with the extraction of the raw data from online sources, followed by data preparation operations and finishing with a few descriptive graphs, the one of key interest being the scatterplot showing the relationship betweenship ecological footprint and the HDI for countries worldwide."
   ]
  },
  {
   "cell_type": "markdown",
   "metadata": {},
   "source": [
    "# 2. Data extraction and preparation"
   ]
  },
  {
   "cell_type": "markdown",
   "metadata": {},
   "source": [
    "## 2.1 Import data through the GFN API"
   ]
  },
  {
   "cell_type": "markdown",
   "metadata": {},
   "source": [
    "The data concerning both the EF and the HDI can be accessed on the GFN website as an [excel file containing all the data](https://www.footprintnetwork.org/licenses/public-data-package-free/), as individual datasets through the [Ecological Footprint Explorer open data platform](https://data.footprintnetwork.org/#/exploreData) or through the [website's API](https://data.footprintnetwork.org/#/api) for which an API key must be requested using their *API Key Request Form* to be able to access the data. The data is provided by the GFN under a [Creative Commons Attribution-ShareAlike 4.0 International License](https://creativecommons.org/licenses/by-sa/4.0/).\n",
    "  \n",
    "For this data analysis, the data will be imported through the API as it makes the whole process easier to reproduce and requires fewer files."
   ]
  },
  {
   "cell_type": "code",
   "execution_count": 3,
   "metadata": {},
   "outputs": [],
   "source": [
    "# Set API key and username needed for authentication to access the GFN API\n",
    "import config # Script file containing confidential authentication details\n",
    "api_key = config.api_key # API key received from the GFN by email\n",
    "user_agent = config.user_agent # User name which can be any string"
   ]
  },
  {
   "cell_type": "markdown",
   "metadata": {},
   "source": [
    "Different datasets can be accessed through the API, the *types* dataset lists all the indicators that are available."
   ]
  },
  {
   "cell_type": "code",
   "execution_count": 4,
   "metadata": {},
   "outputs": [
    {
     "name": "stdout",
     "output_type": "stream",
     "text": [
      "API HTTP response code: 200\n"
     ]
    }
   ],
   "source": [
    "# Extract list of available types of indicators and check that API\n",
    "# access is successful\n",
    "url = 'http://api.footprintnetwork.org/v1/types'\n",
    "request_types = requests.get(url, auth=(user_agent, api_key))\n",
    "print(f'API HTTP response code: {request_types.status_code}') # Check that request is successful: HTTP code = 200"
   ]
  },
  {
   "cell_type": "code",
   "execution_count": 5,
   "metadata": {},
   "outputs": [
    {
     "data": {
      "text/html": [
       "<div>\n",
       "<style scoped>\n",
       "    .dataframe tbody tr th:only-of-type {\n",
       "        vertical-align: middle;\n",
       "    }\n",
       "\n",
       "    .dataframe tbody tr th {\n",
       "        vertical-align: top;\n",
       "    }\n",
       "\n",
       "    .dataframe thead th {\n",
       "        text-align: right;\n",
       "    }\n",
       "</style>\n",
       "<table border=\"1\" class=\"dataframe\">\n",
       "  <thead>\n",
       "    <tr style=\"text-align: right;\">\n",
       "      <th></th>\n",
       "      <th>id</th>\n",
       "      <th>version</th>\n",
       "      <th>code</th>\n",
       "      <th>record</th>\n",
       "      <th>note</th>\n",
       "      <th>enabled</th>\n",
       "      <th>name</th>\n",
       "    </tr>\n",
       "  </thead>\n",
       "  <tbody>\n",
       "    <tr>\n",
       "      <th>0</th>\n",
       "      <td>3</td>\n",
       "      <td>None</td>\n",
       "      <td>BCpc</td>\n",
       "      <td>BiocapPerCap</td>\n",
       "      <td>Biocapacity divided by population in global he...</td>\n",
       "      <td>1</td>\n",
       "      <td>Biocapacity per person</td>\n",
       "    </tr>\n",
       "    <tr>\n",
       "      <th>1</th>\n",
       "      <td>4</td>\n",
       "      <td>None</td>\n",
       "      <td>BCtot</td>\n",
       "      <td>BiocapTotGHA</td>\n",
       "      <td>Total biocapacity in global hectares (gha)</td>\n",
       "      <td>1</td>\n",
       "      <td>Biocapacity</td>\n",
       "    </tr>\n",
       "    <tr>\n",
       "      <th>2</th>\n",
       "      <td>5</td>\n",
       "      <td>None</td>\n",
       "      <td>EFCpc</td>\n",
       "      <td>EFConsPerCap</td>\n",
       "      <td>Ecological Footprint of consumption in global ...</td>\n",
       "      <td>1</td>\n",
       "      <td>Ecological Footprint per person</td>\n",
       "    </tr>\n",
       "    <tr>\n",
       "      <th>3</th>\n",
       "      <td>6</td>\n",
       "      <td>None</td>\n",
       "      <td>EFCtot</td>\n",
       "      <td>EFConsTotGHA</td>\n",
       "      <td>Total Ecological Footprint of consumption in g...</td>\n",
       "      <td>1</td>\n",
       "      <td>Ecological Footprint</td>\n",
       "    </tr>\n",
       "    <tr>\n",
       "      <th>4</th>\n",
       "      <td>13</td>\n",
       "      <td>None</td>\n",
       "      <td>earth</td>\n",
       "      <td>BiocapTotGHA</td>\n",
       "      <td>EFConsPerCap of Country / EFConsPerCap of World</td>\n",
       "      <td>1</td>\n",
       "      <td>Earths</td>\n",
       "    </tr>\n",
       "    <tr>\n",
       "      <th>5</th>\n",
       "      <td>14</td>\n",
       "      <td>None</td>\n",
       "      <td>pop</td>\n",
       "      <td>Population</td>\n",
       "      <td>Population</td>\n",
       "      <td>1</td>\n",
       "      <td>Population</td>\n",
       "    </tr>\n",
       "    <tr>\n",
       "      <th>6</th>\n",
       "      <td>15</td>\n",
       "      <td>None</td>\n",
       "      <td>hdi</td>\n",
       "      <td>HDI</td>\n",
       "      <td>Human Development Index; Source: Trends in the...</td>\n",
       "      <td>1</td>\n",
       "      <td>Human Development Index</td>\n",
       "    </tr>\n",
       "    <tr>\n",
       "      <th>7</th>\n",
       "      <td>16</td>\n",
       "      <td>None</td>\n",
       "      <td>gdp</td>\n",
       "      <td>GDP</td>\n",
       "      <td>GDP per capita (constant 2010 US$); Source: Wo...</td>\n",
       "      <td>1</td>\n",
       "      <td>Gross Domestic Product</td>\n",
       "    </tr>\n",
       "  </tbody>\n",
       "</table>\n",
       "</div>"
      ],
      "text/plain": [
       "   id version    code        record  \\\n",
       "0   3    None    BCpc  BiocapPerCap   \n",
       "1   4    None   BCtot  BiocapTotGHA   \n",
       "2   5    None   EFCpc  EFConsPerCap   \n",
       "3   6    None  EFCtot  EFConsTotGHA   \n",
       "4  13    None   earth  BiocapTotGHA   \n",
       "5  14    None     pop    Population   \n",
       "6  15    None     hdi           HDI   \n",
       "7  16    None     gdp           GDP   \n",
       "\n",
       "                                                note  enabled  \\\n",
       "0  Biocapacity divided by population in global he...        1   \n",
       "1         Total biocapacity in global hectares (gha)        1   \n",
       "2  Ecological Footprint of consumption in global ...        1   \n",
       "3  Total Ecological Footprint of consumption in g...        1   \n",
       "4    EFConsPerCap of Country / EFConsPerCap of World        1   \n",
       "5                                         Population        1   \n",
       "6  Human Development Index; Source: Trends in the...        1   \n",
       "7  GDP per capita (constant 2010 US$); Source: Wo...        1   \n",
       "\n",
       "                              name  \n",
       "0           Biocapacity per person  \n",
       "1                      Biocapacity  \n",
       "2  Ecological Footprint per person  \n",
       "3             Ecological Footprint  \n",
       "4                           Earths  \n",
       "5                       Population  \n",
       "6          Human Development Index  \n",
       "7           Gross Domestic Product  "
      ]
     },
     "execution_count": 5,
     "metadata": {},
     "output_type": "execute_result"
    }
   ],
   "source": [
    "# Display json file contents listing available indicators\n",
    "types_json = request_types.json()\n",
    "df_types = pd.DataFrame(types_json)\n",
    "df_types"
   ]
  },
  {
   "cell_type": "markdown",
   "metadata": {},
   "source": [
    "For this data analysis, these three variables will be extracted: *Earths, Population and Human Development Index*. *Earths* measures how many Earths would be required to provide the surface required to meet consumption needs if everyone on the planet were to consume at the same level as the given country.\n",
    "\n",
    "The HDI can also be accessed through the [API of the United Nations Human Development Report Office](http://hdr.undp.org/en/content/human-development-report-office-statistical-data-api) where the data may be slightly more up to date as it is recalculated retroactively each year with the integration of new methodologies and updated data."
   ]
  },
  {
   "cell_type": "code",
   "execution_count": 6,
   "metadata": {},
   "outputs": [
    {
     "name": "stdout",
     "output_type": "stream",
     "text": [
      "API HTTP response code: 200\n"
     ]
    }
   ],
   "source": [
    "# Extract data on population, ecological footprint (in terms of number\n",
    "# of Earths), and the Human Development Index\n",
    "url = 'http://api.footprintnetwork.org/v1/data/all/2016/pop,earth,hdi'\n",
    "request_ef2016 = requests.get(url, auth=(user_agent, api_key))\n",
    "print(f'API HTTP response code: {request_ef2016.status_code}')"
   ]
  },
  {
   "cell_type": "code",
   "execution_count": 7,
   "metadata": {},
   "outputs": [
    {
     "data": {
      "text/html": [
       "<div>\n",
       "<style scoped>\n",
       "    .dataframe tbody tr th:only-of-type {\n",
       "        vertical-align: middle;\n",
       "    }\n",
       "\n",
       "    .dataframe tbody tr th {\n",
       "        vertical-align: top;\n",
       "    }\n",
       "\n",
       "    .dataframe thead th {\n",
       "        text-align: right;\n",
       "    }\n",
       "</style>\n",
       "<table border=\"1\" class=\"dataframe\">\n",
       "  <thead>\n",
       "    <tr style=\"text-align: right;\">\n",
       "      <th></th>\n",
       "      <th>id</th>\n",
       "      <th>version</th>\n",
       "      <th>year</th>\n",
       "      <th>countryCode</th>\n",
       "      <th>countryName</th>\n",
       "      <th>shortName</th>\n",
       "      <th>isoa2</th>\n",
       "      <th>record</th>\n",
       "      <th>cropLand</th>\n",
       "      <th>grazingLand</th>\n",
       "      <th>forestLand</th>\n",
       "      <th>fishingGround</th>\n",
       "      <th>builtupLand</th>\n",
       "      <th>carbon</th>\n",
       "      <th>value</th>\n",
       "      <th>score</th>\n",
       "    </tr>\n",
       "  </thead>\n",
       "  <tbody>\n",
       "    <tr>\n",
       "      <th>0</th>\n",
       "      <td>221204</td>\n",
       "      <td>None</td>\n",
       "      <td>2016</td>\n",
       "      <td>1</td>\n",
       "      <td>Armenia</td>\n",
       "      <td>Armenia</td>\n",
       "      <td>AM</td>\n",
       "      <td>Earths</td>\n",
       "      <td>0.33</td>\n",
       "      <td>0.14</td>\n",
       "      <td>0.15</td>\n",
       "      <td>4.62e-03</td>\n",
       "      <td>0.03</td>\n",
       "      <td>0.51</td>\n",
       "      <td>1.17e+00</td>\n",
       "      <td>3A</td>\n",
       "    </tr>\n",
       "    <tr>\n",
       "      <th>1</th>\n",
       "      <td>121257</td>\n",
       "      <td>None</td>\n",
       "      <td>2016</td>\n",
       "      <td>1</td>\n",
       "      <td>Armenia</td>\n",
       "      <td>Armenia</td>\n",
       "      <td>AM</td>\n",
       "      <td>HDI</td>\n",
       "      <td>NaN</td>\n",
       "      <td>NaN</td>\n",
       "      <td>NaN</td>\n",
       "      <td>NaN</td>\n",
       "      <td>NaN</td>\n",
       "      <td>NaN</td>\n",
       "      <td>7.51e-01</td>\n",
       "      <td>None</td>\n",
       "    </tr>\n",
       "    <tr>\n",
       "      <th>2</th>\n",
       "      <td>125727</td>\n",
       "      <td>None</td>\n",
       "      <td>2016</td>\n",
       "      <td>1</td>\n",
       "      <td>Armenia</td>\n",
       "      <td>Armenia</td>\n",
       "      <td>AM</td>\n",
       "      <td>Population</td>\n",
       "      <td>NaN</td>\n",
       "      <td>NaN</td>\n",
       "      <td>NaN</td>\n",
       "      <td>NaN</td>\n",
       "      <td>NaN</td>\n",
       "      <td>NaN</td>\n",
       "      <td>2.92e+06</td>\n",
       "      <td>None</td>\n",
       "    </tr>\n",
       "    <tr>\n",
       "      <th>3</th>\n",
       "      <td>221261</td>\n",
       "      <td>None</td>\n",
       "      <td>2016</td>\n",
       "      <td>2</td>\n",
       "      <td>Afghanistan</td>\n",
       "      <td>Afghanistan</td>\n",
       "      <td>AF</td>\n",
       "      <td>Earths</td>\n",
       "      <td>0.18</td>\n",
       "      <td>0.11</td>\n",
       "      <td>0.04</td>\n",
       "      <td>1.41e-04</td>\n",
       "      <td>0.02</td>\n",
       "      <td>0.09</td>\n",
       "      <td>4.39e-01</td>\n",
       "      <td>3A</td>\n",
       "    </tr>\n",
       "    <tr>\n",
       "      <th>4</th>\n",
       "      <td>121285</td>\n",
       "      <td>None</td>\n",
       "      <td>2016</td>\n",
       "      <td>2</td>\n",
       "      <td>Afghanistan</td>\n",
       "      <td>Afghanistan</td>\n",
       "      <td>AF</td>\n",
       "      <td>HDI</td>\n",
       "      <td>NaN</td>\n",
       "      <td>NaN</td>\n",
       "      <td>NaN</td>\n",
       "      <td>NaN</td>\n",
       "      <td>NaN</td>\n",
       "      <td>NaN</td>\n",
       "      <td>4.91e-01</td>\n",
       "      <td>None</td>\n",
       "    </tr>\n",
       "    <tr>\n",
       "      <th>...</th>\n",
       "      <td>...</td>\n",
       "      <td>...</td>\n",
       "      <td>...</td>\n",
       "      <td>...</td>\n",
       "      <td>...</td>\n",
       "      <td>...</td>\n",
       "      <td>...</td>\n",
       "      <td>...</td>\n",
       "      <td>...</td>\n",
       "      <td>...</td>\n",
       "      <td>...</td>\n",
       "      <td>...</td>\n",
       "      <td>...</td>\n",
       "      <td>...</td>\n",
       "      <td>...</td>\n",
       "      <td>...</td>\n",
       "    </tr>\n",
       "    <tr>\n",
       "      <th>596</th>\n",
       "      <td>231913</td>\n",
       "      <td>None</td>\n",
       "      <td>2016</td>\n",
       "      <td>2005</td>\n",
       "      <td>Oceania</td>\n",
       "      <td>º Oceania</td>\n",
       "      <td>None</td>\n",
       "      <td>Earths</td>\n",
       "      <td>0.34</td>\n",
       "      <td>0.10</td>\n",
       "      <td>0.57</td>\n",
       "      <td>8.78e-02</td>\n",
       "      <td>0.03</td>\n",
       "      <td>2.82</td>\n",
       "      <td>3.94e+00</td>\n",
       "      <td></td>\n",
       "    </tr>\n",
       "    <tr>\n",
       "      <th>597</th>\n",
       "      <td>216927</td>\n",
       "      <td>None</td>\n",
       "      <td>2016</td>\n",
       "      <td>2005</td>\n",
       "      <td>Oceania</td>\n",
       "      <td>º Oceania</td>\n",
       "      <td>None</td>\n",
       "      <td>HDI</td>\n",
       "      <td>NaN</td>\n",
       "      <td>NaN</td>\n",
       "      <td>NaN</td>\n",
       "      <td>NaN</td>\n",
       "      <td>NaN</td>\n",
       "      <td>NaN</td>\n",
       "      <td>8.38e-01</td>\n",
       "      <td>None</td>\n",
       "    </tr>\n",
       "    <tr>\n",
       "      <th>598</th>\n",
       "      <td>231970</td>\n",
       "      <td>None</td>\n",
       "      <td>2016</td>\n",
       "      <td>5001</td>\n",
       "      <td>World</td>\n",
       "      <td>º World</td>\n",
       "      <td>None</td>\n",
       "      <td>Earths</td>\n",
       "      <td>0.32</td>\n",
       "      <td>0.09</td>\n",
       "      <td>0.17</td>\n",
       "      <td>5.58e-02</td>\n",
       "      <td>0.04</td>\n",
       "      <td>1.03</td>\n",
       "      <td>1.70e+00</td>\n",
       "      <td>3A</td>\n",
       "    </tr>\n",
       "    <tr>\n",
       "      <th>599</th>\n",
       "      <td>125701</td>\n",
       "      <td>None</td>\n",
       "      <td>2016</td>\n",
       "      <td>5001</td>\n",
       "      <td>World</td>\n",
       "      <td>º World</td>\n",
       "      <td>None</td>\n",
       "      <td>HDI</td>\n",
       "      <td>NaN</td>\n",
       "      <td>NaN</td>\n",
       "      <td>NaN</td>\n",
       "      <td>NaN</td>\n",
       "      <td>NaN</td>\n",
       "      <td>NaN</td>\n",
       "      <td>7.27e-01</td>\n",
       "      <td>None</td>\n",
       "    </tr>\n",
       "    <tr>\n",
       "      <th>600</th>\n",
       "      <td>135252</td>\n",
       "      <td>None</td>\n",
       "      <td>2016</td>\n",
       "      <td>5001</td>\n",
       "      <td>World</td>\n",
       "      <td>º World</td>\n",
       "      <td>None</td>\n",
       "      <td>Population</td>\n",
       "      <td>NaN</td>\n",
       "      <td>NaN</td>\n",
       "      <td>NaN</td>\n",
       "      <td>NaN</td>\n",
       "      <td>NaN</td>\n",
       "      <td>NaN</td>\n",
       "      <td>7.47e+09</td>\n",
       "      <td>None</td>\n",
       "    </tr>\n",
       "  </tbody>\n",
       "</table>\n",
       "<p>601 rows × 16 columns</p>\n",
       "</div>"
      ],
      "text/plain": [
       "         id version  year  countryCode  countryName    shortName isoa2  \\\n",
       "0    221204    None  2016            1      Armenia      Armenia    AM   \n",
       "1    121257    None  2016            1      Armenia      Armenia    AM   \n",
       "2    125727    None  2016            1      Armenia      Armenia    AM   \n",
       "3    221261    None  2016            2  Afghanistan  Afghanistan    AF   \n",
       "4    121285    None  2016            2  Afghanistan  Afghanistan    AF   \n",
       "..      ...     ...   ...          ...          ...          ...   ...   \n",
       "596  231913    None  2016         2005      Oceania    º Oceania  None   \n",
       "597  216927    None  2016         2005      Oceania    º Oceania  None   \n",
       "598  231970    None  2016         5001        World      º World  None   \n",
       "599  125701    None  2016         5001        World      º World  None   \n",
       "600  135252    None  2016         5001        World      º World  None   \n",
       "\n",
       "         record  cropLand  grazingLand  forestLand  fishingGround  \\\n",
       "0        Earths      0.33         0.14        0.15       4.62e-03   \n",
       "1           HDI       NaN          NaN         NaN            NaN   \n",
       "2    Population       NaN          NaN         NaN            NaN   \n",
       "3        Earths      0.18         0.11        0.04       1.41e-04   \n",
       "4           HDI       NaN          NaN         NaN            NaN   \n",
       "..          ...       ...          ...         ...            ...   \n",
       "596      Earths      0.34         0.10        0.57       8.78e-02   \n",
       "597         HDI       NaN          NaN         NaN            NaN   \n",
       "598      Earths      0.32         0.09        0.17       5.58e-02   \n",
       "599         HDI       NaN          NaN         NaN            NaN   \n",
       "600  Population       NaN          NaN         NaN            NaN   \n",
       "\n",
       "     builtupLand  carbon     value score  \n",
       "0           0.03    0.51  1.17e+00    3A  \n",
       "1            NaN     NaN  7.51e-01  None  \n",
       "2            NaN     NaN  2.92e+06  None  \n",
       "3           0.02    0.09  4.39e-01    3A  \n",
       "4            NaN     NaN  4.91e-01  None  \n",
       "..           ...     ...       ...   ...  \n",
       "596         0.03    2.82  3.94e+00        \n",
       "597          NaN     NaN  8.38e-01  None  \n",
       "598         0.04    1.03  1.70e+00    3A  \n",
       "599          NaN     NaN  7.27e-01  None  \n",
       "600          NaN     NaN  7.47e+09  None  \n",
       "\n",
       "[601 rows x 16 columns]"
      ]
     },
     "execution_count": 7,
     "metadata": {},
     "output_type": "execute_result"
    }
   ],
   "source": [
    "df_ef2016_raw = pd.DataFrame(request_ef2016.json())\n",
    "df_ef2016_raw"
   ]
  },
  {
   "cell_type": "markdown",
   "metadata": {},
   "source": [
    "The *record* column shows that the values of three variables of interest are contained on different lines of the *value* column. Country names and the ISO 3166-1 alpha-2 country codes are also needed for merging with other datasets later on."
   ]
  },
  {
   "cell_type": "code",
   "execution_count": 8,
   "metadata": {},
   "outputs": [
    {
     "data": {
      "text/html": [
       "<div>\n",
       "<style scoped>\n",
       "    .dataframe tbody tr th:only-of-type {\n",
       "        vertical-align: middle;\n",
       "    }\n",
       "\n",
       "    .dataframe tbody tr th {\n",
       "        vertical-align: top;\n",
       "    }\n",
       "\n",
       "    .dataframe thead th {\n",
       "        text-align: right;\n",
       "    }\n",
       "</style>\n",
       "<table border=\"1\" class=\"dataframe\">\n",
       "  <thead>\n",
       "    <tr style=\"text-align: right;\">\n",
       "      <th></th>\n",
       "      <th>shortName</th>\n",
       "      <th>isoa2</th>\n",
       "      <th>record</th>\n",
       "      <th>value</th>\n",
       "    </tr>\n",
       "  </thead>\n",
       "  <tbody>\n",
       "    <tr>\n",
       "      <th>0</th>\n",
       "      <td>Armenia</td>\n",
       "      <td>AM</td>\n",
       "      <td>Earths</td>\n",
       "      <td>1.17e+00</td>\n",
       "    </tr>\n",
       "    <tr>\n",
       "      <th>1</th>\n",
       "      <td>Armenia</td>\n",
       "      <td>AM</td>\n",
       "      <td>HDI</td>\n",
       "      <td>7.51e-01</td>\n",
       "    </tr>\n",
       "    <tr>\n",
       "      <th>2</th>\n",
       "      <td>Armenia</td>\n",
       "      <td>AM</td>\n",
       "      <td>Population</td>\n",
       "      <td>2.92e+06</td>\n",
       "    </tr>\n",
       "    <tr>\n",
       "      <th>3</th>\n",
       "      <td>Afghanistan</td>\n",
       "      <td>AF</td>\n",
       "      <td>Earths</td>\n",
       "      <td>4.39e-01</td>\n",
       "    </tr>\n",
       "    <tr>\n",
       "      <th>4</th>\n",
       "      <td>Afghanistan</td>\n",
       "      <td>AF</td>\n",
       "      <td>HDI</td>\n",
       "      <td>4.91e-01</td>\n",
       "    </tr>\n",
       "    <tr>\n",
       "      <th>...</th>\n",
       "      <td>...</td>\n",
       "      <td>...</td>\n",
       "      <td>...</td>\n",
       "      <td>...</td>\n",
       "    </tr>\n",
       "    <tr>\n",
       "      <th>596</th>\n",
       "      <td>º Oceania</td>\n",
       "      <td>None</td>\n",
       "      <td>Earths</td>\n",
       "      <td>3.94e+00</td>\n",
       "    </tr>\n",
       "    <tr>\n",
       "      <th>597</th>\n",
       "      <td>º Oceania</td>\n",
       "      <td>None</td>\n",
       "      <td>HDI</td>\n",
       "      <td>8.38e-01</td>\n",
       "    </tr>\n",
       "    <tr>\n",
       "      <th>598</th>\n",
       "      <td>º World</td>\n",
       "      <td>None</td>\n",
       "      <td>Earths</td>\n",
       "      <td>1.70e+00</td>\n",
       "    </tr>\n",
       "    <tr>\n",
       "      <th>599</th>\n",
       "      <td>º World</td>\n",
       "      <td>None</td>\n",
       "      <td>HDI</td>\n",
       "      <td>7.27e-01</td>\n",
       "    </tr>\n",
       "    <tr>\n",
       "      <th>600</th>\n",
       "      <td>º World</td>\n",
       "      <td>None</td>\n",
       "      <td>Population</td>\n",
       "      <td>7.47e+09</td>\n",
       "    </tr>\n",
       "  </tbody>\n",
       "</table>\n",
       "<p>601 rows × 4 columns</p>\n",
       "</div>"
      ],
      "text/plain": [
       "       shortName isoa2      record     value\n",
       "0        Armenia    AM      Earths  1.17e+00\n",
       "1        Armenia    AM         HDI  7.51e-01\n",
       "2        Armenia    AM  Population  2.92e+06\n",
       "3    Afghanistan    AF      Earths  4.39e-01\n",
       "4    Afghanistan    AF         HDI  4.91e-01\n",
       "..           ...   ...         ...       ...\n",
       "596    º Oceania  None      Earths  3.94e+00\n",
       "597    º Oceania  None         HDI  8.38e-01\n",
       "598      º World  None      Earths  1.70e+00\n",
       "599      º World  None         HDI  7.27e-01\n",
       "600      º World  None  Population  7.47e+09\n",
       "\n",
       "[601 rows x 4 columns]"
      ]
     },
     "execution_count": 8,
     "metadata": {},
     "output_type": "execute_result"
    }
   ],
   "source": [
    "# Select columns of interest\n",
    "df_ef2016_select = df_ef2016_raw[['shortName', 'isoa2', 'record', 'value']]\n",
    "df_ef2016_select"
   ]
  },
  {
   "cell_type": "code",
   "execution_count": 9,
   "metadata": {},
   "outputs": [
    {
     "name": "stdout",
     "output_type": "stream",
     "text": [
      "<class 'pandas.core.frame.DataFrame'>\n",
      "RangeIndex: 601 entries, 0 to 600\n",
      "Data columns (total 4 columns):\n",
      " #   Column     Non-Null Count  Dtype  \n",
      "---  ------     --------------  -----  \n",
      " 0   shortName  601 non-null    object \n",
      " 1   isoa2      547 non-null    object \n",
      " 2   record     601 non-null    object \n",
      " 3   value      601 non-null    float64\n",
      "dtypes: float64(1), object(3)\n",
      "memory usage: 18.9+ KB\n"
     ]
    }
   ],
   "source": [
    "df_ef2016_select.info()"
   ]
  },
  {
   "cell_type": "markdown",
   "metadata": {},
   "source": [
    "The *record* column needs to be split into separate columns containing the variables of interest and the columns can be renamed for better readability."
   ]
  },
  {
   "cell_type": "code",
   "execution_count": 10,
   "metadata": {},
   "outputs": [
    {
     "data": {
      "text/html": [
       "<div>\n",
       "<style scoped>\n",
       "    .dataframe tbody tr th:only-of-type {\n",
       "        vertical-align: middle;\n",
       "    }\n",
       "\n",
       "    .dataframe tbody tr th {\n",
       "        vertical-align: top;\n",
       "    }\n",
       "\n",
       "    .dataframe thead th {\n",
       "        text-align: right;\n",
       "    }\n",
       "</style>\n",
       "<table border=\"1\" class=\"dataframe\">\n",
       "  <thead>\n",
       "    <tr style=\"text-align: right;\">\n",
       "      <th></th>\n",
       "      <th>country</th>\n",
       "      <th>code</th>\n",
       "      <th>Earths</th>\n",
       "      <th>HDI</th>\n",
       "      <th>population</th>\n",
       "    </tr>\n",
       "  </thead>\n",
       "  <tbody>\n",
       "    <tr>\n",
       "      <th>0</th>\n",
       "      <td>Afghanistan</td>\n",
       "      <td>AF</td>\n",
       "      <td>0.44</td>\n",
       "      <td>0.49</td>\n",
       "      <td>3.47e+07</td>\n",
       "    </tr>\n",
       "    <tr>\n",
       "      <th>1</th>\n",
       "      <td>Albania</td>\n",
       "      <td>AL</td>\n",
       "      <td>1.23</td>\n",
       "      <td>0.79</td>\n",
       "      <td>2.93e+06</td>\n",
       "    </tr>\n",
       "    <tr>\n",
       "      <th>2</th>\n",
       "      <td>Algeria</td>\n",
       "      <td>DZ</td>\n",
       "      <td>1.48</td>\n",
       "      <td>0.75</td>\n",
       "      <td>4.06e+07</td>\n",
       "    </tr>\n",
       "    <tr>\n",
       "      <th>3</th>\n",
       "      <td>Angola</td>\n",
       "      <td>AO</td>\n",
       "      <td>0.57</td>\n",
       "      <td>0.57</td>\n",
       "      <td>2.88e+07</td>\n",
       "    </tr>\n",
       "    <tr>\n",
       "      <th>4</th>\n",
       "      <td>Antigua and Barbuda</td>\n",
       "      <td>AG</td>\n",
       "      <td>2.69</td>\n",
       "      <td>0.77</td>\n",
       "      <td>1.01e+05</td>\n",
       "    </tr>\n",
       "    <tr>\n",
       "      <th>...</th>\n",
       "      <td>...</td>\n",
       "      <td>...</td>\n",
       "      <td>...</td>\n",
       "      <td>...</td>\n",
       "      <td>...</td>\n",
       "    </tr>\n",
       "    <tr>\n",
       "      <th>183</th>\n",
       "      <td>Venezuela</td>\n",
       "      <td>VE</td>\n",
       "      <td>1.55</td>\n",
       "      <td>0.75</td>\n",
       "      <td>3.16e+07</td>\n",
       "    </tr>\n",
       "    <tr>\n",
       "      <th>184</th>\n",
       "      <td>Viet Nam</td>\n",
       "      <td>VN</td>\n",
       "      <td>1.37</td>\n",
       "      <td>0.69</td>\n",
       "      <td>9.46e+07</td>\n",
       "    </tr>\n",
       "    <tr>\n",
       "      <th>185</th>\n",
       "      <td>Yemen</td>\n",
       "      <td>YE</td>\n",
       "      <td>0.40</td>\n",
       "      <td>0.48</td>\n",
       "      <td>2.76e+07</td>\n",
       "    </tr>\n",
       "    <tr>\n",
       "      <th>186</th>\n",
       "      <td>Zambia</td>\n",
       "      <td>ZM</td>\n",
       "      <td>0.60</td>\n",
       "      <td>0.58</td>\n",
       "      <td>1.66e+07</td>\n",
       "    </tr>\n",
       "    <tr>\n",
       "      <th>187</th>\n",
       "      <td>Zimbabwe</td>\n",
       "      <td>ZW</td>\n",
       "      <td>0.65</td>\n",
       "      <td>0.55</td>\n",
       "      <td>1.62e+07</td>\n",
       "    </tr>\n",
       "  </tbody>\n",
       "</table>\n",
       "<p>188 rows × 5 columns</p>\n",
       "</div>"
      ],
      "text/plain": [
       "                 country code  Earths   HDI  population\n",
       "0            Afghanistan   AF    0.44  0.49    3.47e+07\n",
       "1                Albania   AL    1.23  0.79    2.93e+06\n",
       "2                Algeria   DZ    1.48  0.75    4.06e+07\n",
       "3                 Angola   AO    0.57  0.57    2.88e+07\n",
       "4    Antigua and Barbuda   AG    2.69  0.77    1.01e+05\n",
       "..                   ...  ...     ...   ...         ...\n",
       "183            Venezuela   VE    1.55  0.75    3.16e+07\n",
       "184             Viet Nam   VN    1.37  0.69    9.46e+07\n",
       "185                Yemen   YE    0.40  0.48    2.76e+07\n",
       "186               Zambia   ZM    0.60  0.58    1.66e+07\n",
       "187             Zimbabwe   ZW    0.65  0.55    1.62e+07\n",
       "\n",
       "[188 rows x 5 columns]"
      ]
     },
     "execution_count": 10,
     "metadata": {},
     "output_type": "execute_result"
    }
   ],
   "source": [
    "# Pivot table, reset index and rename columns\n",
    "df_ef2016_pivot = df_ef2016_select.pivot_table(index=['shortName','isoa2'], columns=['record'], values='value').reset_index()\n",
    "df_ef2016_pivot.columns = ['country', 'code', 'Earths', 'HDI', 'population']\n",
    "df_ef2016_pivot"
   ]
  },
  {
   "cell_type": "code",
   "execution_count": 11,
   "metadata": {},
   "outputs": [
    {
     "name": "stdout",
     "output_type": "stream",
     "text": [
      "<class 'pandas.core.frame.DataFrame'>\n",
      "RangeIndex: 188 entries, 0 to 187\n",
      "Data columns (total 5 columns):\n",
      " #   Column      Non-Null Count  Dtype  \n",
      "---  ------      --------------  -----  \n",
      " 0   country     188 non-null    object \n",
      " 1   code        188 non-null    object \n",
      " 2   Earths      184 non-null    float64\n",
      " 3   HDI         175 non-null    float64\n",
      " 4   population  188 non-null    float64\n",
      "dtypes: float64(3), object(2)\n",
      "memory usage: 7.5+ KB\n"
     ]
    }
   ],
   "source": [
    "df_ef2016_pivot.info()"
   ]
  },
  {
   "cell_type": "markdown",
   "metadata": {},
   "source": [
    "The dataset contains data on 187 countries, of which 12 are missing a value for the HDI (shown in a later section).\n",
    "\n",
    "We can now look at how *Earths* and *HDI* are distributed."
   ]
  },
  {
   "cell_type": "code",
   "execution_count": 12,
   "metadata": {},
   "outputs": [],
   "source": [
    "# Create histogram function\n",
    "def hist_align_bins(variable, xlabel, title, bin_width):\n",
    "    \"\"\"\n",
    "    Create a histogram with bins of a selected width and overlaid with a\n",
    "    kernel density estimator.\n",
    "    \n",
    "    A list of bins for the histogram 'bins' argument is created based on \n",
    "    the range of the variable scores and on the selected width of bins.\n",
    "    The bins are automatically aligned with round units making the\n",
    "    histogram more readable.\n",
    "    \n",
    "    Parameters\n",
    "    ----------\n",
    "    variable: pandas Series with dtype integer or float\n",
    "        Numerical variable to plot in histogram.\n",
    "    xlabel: str\n",
    "        Label x axis.\n",
    "    title: str\n",
    "        Figure title.\n",
    "    bin_width: integer, float\n",
    "        Width of histogram bins in the units of the variable.\n",
    "    \"\"\"\n",
    "    \n",
    "    leftmost_bin_edge = variable.min() - variable.min()%bin_width\n",
    "    rightmost_bin_edge = variable.max() - variable.max()%bin_width + 2*bin_width\n",
    "    bins_list = np.arange(leftmost_bin_edge, rightmost_bin_edge, bin_width)\n",
    "    \n",
    "    ax_hist = sns.histplot(data=variable, bins=bins_list, kde=True, alpha= 0.9,\n",
    "                           edgecolor='white', linewidth=0.5,\n",
    "                           line_kws=dict(alpha=0.5, linewidth=1.5,\n",
    "                           label='kernel density estimator'))\n",
    "    ax_hist.get_lines()[0].set_color('black') # manually edit line color due to bug with line_kws\n",
    "\n",
    "    # Additional formatting\n",
    "    ax_hist.set_xlabel(xlabel, size=12, labelpad=15)\n",
    "    ax_hist.set_ylabel('Count', size=12, labelpad=15)\n",
    "    \n",
    "    plt.title(title, size=14, pad=30)\n",
    "    plt.legend(frameon=False)\n",
    "    sns.despine()"
   ]
  },
  {
   "cell_type": "code",
   "execution_count": 13,
   "metadata": {},
   "outputs": [
    {
     "data": {
      "image/png": "[encoded data removed]",
      "text/plain": [
       "<Figure size 720x432 with 1 Axes>"
      ]
     },
     "metadata": {
      "needs_background": "light"
     },
     "output_type": "display_data"
    }
   ],
   "source": [
    "# Draw Earths histogram\n",
    "hist_align_bins(variable=df_ef2016_pivot['Earths'],\n",
    "                xlabel='Earths',\n",
    "                title='Distribution of Ecological Footprint scores',\n",
    "                bin_width=0.5)"
   ]
  },
  {
   "cell_type": "code",
   "execution_count": 14,
   "metadata": {},
   "outputs": [
    {
     "data": {
      "text/html": [
       "<div>\n",
       "<style scoped>\n",
       "    .dataframe tbody tr th:only-of-type {\n",
       "        vertical-align: middle;\n",
       "    }\n",
       "\n",
       "    .dataframe tbody tr th {\n",
       "        vertical-align: top;\n",
       "    }\n",
       "\n",
       "    .dataframe thead th {\n",
       "        text-align: right;\n",
       "    }\n",
       "</style>\n",
       "<table border=\"1\" class=\"dataframe\">\n",
       "  <thead>\n",
       "    <tr style=\"text-align: right;\">\n",
       "      <th></th>\n",
       "      <th>country</th>\n",
       "      <th>code</th>\n",
       "      <th>Earths</th>\n",
       "      <th>HDI</th>\n",
       "      <th>population</th>\n",
       "    </tr>\n",
       "  </thead>\n",
       "  <tbody>\n",
       "    <tr>\n",
       "      <th>139</th>\n",
       "      <td>Qatar</td>\n",
       "      <td>QA</td>\n",
       "      <td>8.91</td>\n",
       "      <td>0.85</td>\n",
       "      <td>2.57e+06</td>\n",
       "    </tr>\n",
       "    <tr>\n",
       "      <th>102</th>\n",
       "      <td>Luxembourg</td>\n",
       "      <td>LU</td>\n",
       "      <td>7.99</td>\n",
       "      <td>0.90</td>\n",
       "      <td>5.76e+05</td>\n",
       "    </tr>\n",
       "    <tr>\n",
       "      <th>179</th>\n",
       "      <td>United Arab Emirates</td>\n",
       "      <td>AE</td>\n",
       "      <td>5.52</td>\n",
       "      <td>0.86</td>\n",
       "      <td>9.27e+06</td>\n",
       "    </tr>\n",
       "    <tr>\n",
       "      <th>12</th>\n",
       "      <td>Bahrain</td>\n",
       "      <td>BH</td>\n",
       "      <td>5.47</td>\n",
       "      <td>0.84</td>\n",
       "      <td>1.43e+06</td>\n",
       "    </tr>\n",
       "    <tr>\n",
       "      <th>93</th>\n",
       "      <td>Kuwait</td>\n",
       "      <td>KW</td>\n",
       "      <td>5.29</td>\n",
       "      <td>0.81</td>\n",
       "      <td>4.05e+06</td>\n",
       "    </tr>\n",
       "    <tr>\n",
       "      <th>181</th>\n",
       "      <td>United States</td>\n",
       "      <td>US</td>\n",
       "      <td>5.11</td>\n",
       "      <td>0.92</td>\n",
       "      <td>3.22e+08</td>\n",
       "    </tr>\n",
       "    <tr>\n",
       "      <th>33</th>\n",
       "      <td>Canada</td>\n",
       "      <td>CA</td>\n",
       "      <td>5.10</td>\n",
       "      <td>0.92</td>\n",
       "      <td>3.63e+07</td>\n",
       "    </tr>\n",
       "    <tr>\n",
       "      <th>173</th>\n",
       "      <td>Trinidad and Tobago</td>\n",
       "      <td>TT</td>\n",
       "      <td>4.90</td>\n",
       "      <td>0.80</td>\n",
       "      <td>1.36e+06</td>\n",
       "    </tr>\n",
       "    <tr>\n",
       "      <th>114</th>\n",
       "      <td>Mongolia</td>\n",
       "      <td>MN</td>\n",
       "      <td>4.77</td>\n",
       "      <td>0.73</td>\n",
       "      <td>3.03e+06</td>\n",
       "    </tr>\n",
       "    <tr>\n",
       "      <th>19</th>\n",
       "      <td>Bermuda</td>\n",
       "      <td>BM</td>\n",
       "      <td>4.72</td>\n",
       "      <td>NaN</td>\n",
       "      <td>6.17e+04</td>\n",
       "    </tr>\n",
       "  </tbody>\n",
       "</table>\n",
       "</div>"
      ],
      "text/plain": [
       "                  country code  Earths   HDI  population\n",
       "139                 Qatar   QA    8.91  0.85    2.57e+06\n",
       "102            Luxembourg   LU    7.99  0.90    5.76e+05\n",
       "179  United Arab Emirates   AE    5.52  0.86    9.27e+06\n",
       "12                Bahrain   BH    5.47  0.84    1.43e+06\n",
       "93                 Kuwait   KW    5.29  0.81    4.05e+06\n",
       "181         United States   US    5.11  0.92    3.22e+08\n",
       "33                 Canada   CA    5.10  0.92    3.63e+07\n",
       "173   Trinidad and Tobago   TT    4.90  0.80    1.36e+06\n",
       "114              Mongolia   MN    4.77  0.73    3.03e+06\n",
       "19                Bermuda   BM    4.72   NaN    6.17e+04"
      ]
     },
     "execution_count": 14,
     "metadata": {},
     "output_type": "execute_result"
    }
   ],
   "source": [
    "# Earths top 10 countries\n",
    "df_ef2016_pivot.nlargest(10, 'Earths')"
   ]
  },
  {
   "cell_type": "markdown",
   "metadata": {},
   "source": [
    "The list contains mainly fossil fuel producing countries with the exceptions of Luxembourg and Bermuda. As a wealthy country, Luxembourg has a high per capita consumption level and it also experiences a [high level of tank tourism](https://web.archive.org/web/20200204044407/https://today.rtl.lu/news/luxembourg/a/1412471.html). Bermuda also is a wealthy country with a high per capita consumption level and it additionaly relies heavily on fossil fuels for all its [energy needs](https://www.worlddata.info/america/bermuda/energy-consumption.php)."
   ]
  },
  {
   "cell_type": "code",
   "execution_count": 15,
   "metadata": {},
   "outputs": [
    {
     "data": {
      "text/html": [
       "<div>\n",
       "<style scoped>\n",
       "    .dataframe tbody tr th:only-of-type {\n",
       "        vertical-align: middle;\n",
       "    }\n",
       "\n",
       "    .dataframe tbody tr th {\n",
       "        vertical-align: top;\n",
       "    }\n",
       "\n",
       "    .dataframe thead th {\n",
       "        text-align: right;\n",
       "    }\n",
       "</style>\n",
       "<table border=\"1\" class=\"dataframe\">\n",
       "  <thead>\n",
       "    <tr style=\"text-align: right;\">\n",
       "      <th></th>\n",
       "      <th>country</th>\n",
       "      <th>code</th>\n",
       "      <th>Earths</th>\n",
       "      <th>HDI</th>\n",
       "      <th>population</th>\n",
       "    </tr>\n",
       "  </thead>\n",
       "  <tbody>\n",
       "    <tr>\n",
       "      <th>170</th>\n",
       "      <td>Timor-Leste</td>\n",
       "      <td>TL</td>\n",
       "      <td>0.31</td>\n",
       "      <td>0.63</td>\n",
       "      <td>1.27e+06</td>\n",
       "    </tr>\n",
       "    <tr>\n",
       "      <th>58</th>\n",
       "      <td>Eritrea</td>\n",
       "      <td>ER</td>\n",
       "      <td>0.32</td>\n",
       "      <td>0.43</td>\n",
       "      <td>4.95e+06</td>\n",
       "    </tr>\n",
       "    <tr>\n",
       "      <th>185</th>\n",
       "      <td>Yemen</td>\n",
       "      <td>YE</td>\n",
       "      <td>0.40</td>\n",
       "      <td>0.48</td>\n",
       "      <td>2.76e+07</td>\n",
       "    </tr>\n",
       "    <tr>\n",
       "      <th>78</th>\n",
       "      <td>Haiti</td>\n",
       "      <td>HT</td>\n",
       "      <td>0.41</td>\n",
       "      <td>0.50</td>\n",
       "      <td>1.08e+07</td>\n",
       "    </tr>\n",
       "    <tr>\n",
       "      <th>29</th>\n",
       "      <td>Burundi</td>\n",
       "      <td>BI</td>\n",
       "      <td>0.41</td>\n",
       "      <td>0.43</td>\n",
       "      <td>1.05e+07</td>\n",
       "    </tr>\n",
       "    <tr>\n",
       "      <th>143</th>\n",
       "      <td>Rwanda</td>\n",
       "      <td>RW</td>\n",
       "      <td>0.43</td>\n",
       "      <td>0.52</td>\n",
       "      <td>1.19e+07</td>\n",
       "    </tr>\n",
       "    <tr>\n",
       "      <th>0</th>\n",
       "      <td>Afghanistan</td>\n",
       "      <td>AF</td>\n",
       "      <td>0.44</td>\n",
       "      <td>0.49</td>\n",
       "      <td>3.47e+07</td>\n",
       "    </tr>\n",
       "    <tr>\n",
       "      <th>131</th>\n",
       "      <td>Palestine</td>\n",
       "      <td>PS</td>\n",
       "      <td>0.47</td>\n",
       "      <td>0.69</td>\n",
       "      <td>4.79e+06</td>\n",
       "    </tr>\n",
       "    <tr>\n",
       "      <th>118</th>\n",
       "      <td>Mozambique</td>\n",
       "      <td>MZ</td>\n",
       "      <td>0.48</td>\n",
       "      <td>0.44</td>\n",
       "      <td>2.88e+07</td>\n",
       "    </tr>\n",
       "    <tr>\n",
       "      <th>42</th>\n",
       "      <td>Congo DR</td>\n",
       "      <td>CD</td>\n",
       "      <td>0.48</td>\n",
       "      <td>0.45</td>\n",
       "      <td>7.87e+07</td>\n",
       "    </tr>\n",
       "  </tbody>\n",
       "</table>\n",
       "</div>"
      ],
      "text/plain": [
       "         country code  Earths   HDI  population\n",
       "170  Timor-Leste   TL    0.31  0.63    1.27e+06\n",
       "58       Eritrea   ER    0.32  0.43    4.95e+06\n",
       "185        Yemen   YE    0.40  0.48    2.76e+07\n",
       "78         Haiti   HT    0.41  0.50    1.08e+07\n",
       "29       Burundi   BI    0.41  0.43    1.05e+07\n",
       "143       Rwanda   RW    0.43  0.52    1.19e+07\n",
       "0    Afghanistan   AF    0.44  0.49    3.47e+07\n",
       "131    Palestine   PS    0.47  0.69    4.79e+06\n",
       "118   Mozambique   MZ    0.48  0.44    2.88e+07\n",
       "42      Congo DR   CD    0.48  0.45    7.87e+07"
      ]
     },
     "execution_count": 15,
     "metadata": {},
     "output_type": "execute_result"
    }
   ],
   "source": [
    "# Earths bottom 10 countries\n",
    "df_ef2016_pivot.nsmallest(10, 'Earths')"
   ]
  },
  {
   "cell_type": "code",
   "execution_count": 16,
   "metadata": {},
   "outputs": [
    {
     "data": {
      "image/png": "[encoded data removed]",
      "text/plain": [
       "<Figure size 720x432 with 1 Axes>"
      ]
     },
     "metadata": {
      "needs_background": "light"
     },
     "output_type": "display_data"
    }
   ],
   "source": [
    "# Draw HDI histogram\n",
    "hist_align_bins(variable=df_ef2016_pivot['HDI'],\n",
    "                xlabel='HDI',\n",
    "                title='Distribution of HDI scores',\n",
    "                bin_width=0.025)"
   ]
  },
  {
   "cell_type": "code",
   "execution_count": 17,
   "metadata": {},
   "outputs": [
    {
     "data": {
      "text/html": [
       "<div>\n",
       "<style scoped>\n",
       "    .dataframe tbody tr th:only-of-type {\n",
       "        vertical-align: middle;\n",
       "    }\n",
       "\n",
       "    .dataframe tbody tr th {\n",
       "        vertical-align: top;\n",
       "    }\n",
       "\n",
       "    .dataframe thead th {\n",
       "        text-align: right;\n",
       "    }\n",
       "</style>\n",
       "<table border=\"1\" class=\"dataframe\">\n",
       "  <thead>\n",
       "    <tr style=\"text-align: right;\">\n",
       "      <th></th>\n",
       "      <th>country</th>\n",
       "      <th>code</th>\n",
       "      <th>Earths</th>\n",
       "      <th>HDI</th>\n",
       "      <th>population</th>\n",
       "    </tr>\n",
       "  </thead>\n",
       "  <tbody>\n",
       "    <tr>\n",
       "      <th>128</th>\n",
       "      <td>Norway</td>\n",
       "      <td>NO</td>\n",
       "      <td>3.42</td>\n",
       "      <td>0.95</td>\n",
       "      <td>5.25e+06</td>\n",
       "    </tr>\n",
       "    <tr>\n",
       "      <th>165</th>\n",
       "      <td>Switzerland</td>\n",
       "      <td>CH</td>\n",
       "      <td>2.88</td>\n",
       "      <td>0.94</td>\n",
       "      <td>8.40e+06</td>\n",
       "    </tr>\n",
       "    <tr>\n",
       "      <th>69</th>\n",
       "      <td>Germany</td>\n",
       "      <td>DE</td>\n",
       "      <td>2.98</td>\n",
       "      <td>0.94</td>\n",
       "      <td>8.19e+07</td>\n",
       "    </tr>\n",
       "    <tr>\n",
       "      <th>85</th>\n",
       "      <td>Ireland</td>\n",
       "      <td>IE</td>\n",
       "      <td>3.16</td>\n",
       "      <td>0.94</td>\n",
       "      <td>4.73e+06</td>\n",
       "    </tr>\n",
       "    <tr>\n",
       "      <th>8</th>\n",
       "      <td>Australia</td>\n",
       "      <td>AU</td>\n",
       "      <td>4.02</td>\n",
       "      <td>0.94</td>\n",
       "      <td>2.41e+07</td>\n",
       "    </tr>\n",
       "    <tr>\n",
       "      <th>164</th>\n",
       "      <td>Sweden</td>\n",
       "      <td>SE</td>\n",
       "      <td>3.84</td>\n",
       "      <td>0.93</td>\n",
       "      <td>9.84e+06</td>\n",
       "    </tr>\n",
       "    <tr>\n",
       "      <th>150</th>\n",
       "      <td>Singapore</td>\n",
       "      <td>SG</td>\n",
       "      <td>3.96</td>\n",
       "      <td>0.93</td>\n",
       "      <td>5.62e+06</td>\n",
       "    </tr>\n",
       "    <tr>\n",
       "      <th>122</th>\n",
       "      <td>Netherlands</td>\n",
       "      <td>NL</td>\n",
       "      <td>3.12</td>\n",
       "      <td>0.93</td>\n",
       "      <td>1.70e+07</td>\n",
       "    </tr>\n",
       "    <tr>\n",
       "      <th>50</th>\n",
       "      <td>Denmark</td>\n",
       "      <td>DK</td>\n",
       "      <td>4.33</td>\n",
       "      <td>0.93</td>\n",
       "      <td>5.71e+06</td>\n",
       "    </tr>\n",
       "    <tr>\n",
       "      <th>62</th>\n",
       "      <td>Finland</td>\n",
       "      <td>FI</td>\n",
       "      <td>3.85</td>\n",
       "      <td>0.92</td>\n",
       "      <td>5.50e+06</td>\n",
       "    </tr>\n",
       "  </tbody>\n",
       "</table>\n",
       "</div>"
      ],
      "text/plain": [
       "         country code  Earths   HDI  population\n",
       "128       Norway   NO    3.42  0.95    5.25e+06\n",
       "165  Switzerland   CH    2.88  0.94    8.40e+06\n",
       "69       Germany   DE    2.98  0.94    8.19e+07\n",
       "85       Ireland   IE    3.16  0.94    4.73e+06\n",
       "8      Australia   AU    4.02  0.94    2.41e+07\n",
       "164       Sweden   SE    3.84  0.93    9.84e+06\n",
       "150    Singapore   SG    3.96  0.93    5.62e+06\n",
       "122  Netherlands   NL    3.12  0.93    1.70e+07\n",
       "50       Denmark   DK    4.33  0.93    5.71e+06\n",
       "62       Finland   FI    3.85  0.92    5.50e+06"
      ]
     },
     "execution_count": 17,
     "metadata": {},
     "output_type": "execute_result"
    }
   ],
   "source": [
    "# HDI top 10\n",
    "df_ef2016_pivot.nlargest(10, 'HDI')"
   ]
  },
  {
   "cell_type": "code",
   "execution_count": 18,
   "metadata": {},
   "outputs": [
    {
     "data": {
      "text/html": [
       "<div>\n",
       "<style scoped>\n",
       "    .dataframe tbody tr th:only-of-type {\n",
       "        vertical-align: middle;\n",
       "    }\n",
       "\n",
       "    .dataframe tbody tr th {\n",
       "        vertical-align: top;\n",
       "    }\n",
       "\n",
       "    .dataframe thead th {\n",
       "        text-align: right;\n",
       "    }\n",
       "</style>\n",
       "<table border=\"1\" class=\"dataframe\">\n",
       "  <thead>\n",
       "    <tr style=\"text-align: right;\">\n",
       "      <th></th>\n",
       "      <th>country</th>\n",
       "      <th>code</th>\n",
       "      <th>Earths</th>\n",
       "      <th>HDI</th>\n",
       "      <th>population</th>\n",
       "    </tr>\n",
       "  </thead>\n",
       "  <tbody>\n",
       "    <tr>\n",
       "      <th>125</th>\n",
       "      <td>Niger</td>\n",
       "      <td>NE</td>\n",
       "      <td>1.00</td>\n",
       "      <td>0.37</td>\n",
       "      <td>2.07e+07</td>\n",
       "    </tr>\n",
       "    <tr>\n",
       "      <th>35</th>\n",
       "      <td>Central African Republic</td>\n",
       "      <td>CF</td>\n",
       "      <td>0.73</td>\n",
       "      <td>0.37</td>\n",
       "      <td>4.59e+06</td>\n",
       "    </tr>\n",
       "    <tr>\n",
       "      <th>36</th>\n",
       "      <td>Chad</td>\n",
       "      <td>TD</td>\n",
       "      <td>1.10</td>\n",
       "      <td>0.40</td>\n",
       "      <td>1.45e+07</td>\n",
       "    </tr>\n",
       "    <tr>\n",
       "      <th>28</th>\n",
       "      <td>Burkina Faso</td>\n",
       "      <td>BF</td>\n",
       "      <td>0.71</td>\n",
       "      <td>0.42</td>\n",
       "      <td>1.86e+07</td>\n",
       "    </tr>\n",
       "    <tr>\n",
       "      <th>107</th>\n",
       "      <td>Mali</td>\n",
       "      <td>ML</td>\n",
       "      <td>0.92</td>\n",
       "      <td>0.42</td>\n",
       "      <td>1.80e+07</td>\n",
       "    </tr>\n",
       "    <tr>\n",
       "      <th>149</th>\n",
       "      <td>Sierra Leone</td>\n",
       "      <td>SL</td>\n",
       "      <td>0.62</td>\n",
       "      <td>0.42</td>\n",
       "      <td>7.40e+06</td>\n",
       "    </tr>\n",
       "    <tr>\n",
       "      <th>29</th>\n",
       "      <td>Burundi</td>\n",
       "      <td>BI</td>\n",
       "      <td>0.41</td>\n",
       "      <td>0.43</td>\n",
       "      <td>1.05e+07</td>\n",
       "    </tr>\n",
       "    <tr>\n",
       "      <th>58</th>\n",
       "      <td>Eritrea</td>\n",
       "      <td>ER</td>\n",
       "      <td>0.32</td>\n",
       "      <td>0.43</td>\n",
       "      <td>4.95e+06</td>\n",
       "    </tr>\n",
       "    <tr>\n",
       "      <th>118</th>\n",
       "      <td>Mozambique</td>\n",
       "      <td>MZ</td>\n",
       "      <td>0.48</td>\n",
       "      <td>0.44</td>\n",
       "      <td>2.88e+07</td>\n",
       "    </tr>\n",
       "    <tr>\n",
       "      <th>42</th>\n",
       "      <td>Congo DR</td>\n",
       "      <td>CD</td>\n",
       "      <td>0.48</td>\n",
       "      <td>0.45</td>\n",
       "      <td>7.87e+07</td>\n",
       "    </tr>\n",
       "  </tbody>\n",
       "</table>\n",
       "</div>"
      ],
      "text/plain": [
       "                      country code  Earths   HDI  population\n",
       "125                     Niger   NE    1.00  0.37    2.07e+07\n",
       "35   Central African Republic   CF    0.73  0.37    4.59e+06\n",
       "36                       Chad   TD    1.10  0.40    1.45e+07\n",
       "28               Burkina Faso   BF    0.71  0.42    1.86e+07\n",
       "107                      Mali   ML    0.92  0.42    1.80e+07\n",
       "149              Sierra Leone   SL    0.62  0.42    7.40e+06\n",
       "29                    Burundi   BI    0.41  0.43    1.05e+07\n",
       "58                    Eritrea   ER    0.32  0.43    4.95e+06\n",
       "118                Mozambique   MZ    0.48  0.44    2.88e+07\n",
       "42                   Congo DR   CD    0.48  0.45    7.87e+07"
      ]
     },
     "execution_count": 18,
     "metadata": {},
     "output_type": "execute_result"
    }
   ],
   "source": [
    "# HDI bottom 10\n",
    "df_ef2016_pivot.nsmallest(10, 'HDI')"
   ]
  },
  {
   "cell_type": "markdown",
   "metadata": {},
   "source": [
    "To get a better understanding of how much of the world is covered in the dataset, we can compare the countries listed in the dataset to a comprehensive list of countries considered to be independent States."
   ]
  },
  {
   "cell_type": "markdown",
   "metadata": {},
   "source": [
    "## 2.2 Import list of independent States by scraping online HTML table"
   ]
  },
  {
   "cell_type": "markdown",
   "metadata": {},
   "source": [
    "A list of independent States will be used as reference to better understand the coverage of the available data, with the assumption that countries or territories that are not independent are small in size and therefore have less impact on the global consumption of resources.\n",
    "  \n",
    "The list of [Independent States in the World](https://www.state.gov/independent-states-in-the-world/) published by the United States Department of State (USDS) will be used as reference. It includes GENC country codes which are based on the ISO 3166 country code standard and will be used to merge with the other dataset. This data is in the [public domain](https://www.state.gov/copyright-information/) and may be copied and distributed without permission.\n",
    "  \n",
    "The USDS [allows scraping of its website](https://www.state.gov/robots.txt) but for some reason the pandas function *pd.read_html(url)* does not work on this page so the BeautifulSoup package is used here instead."
   ]
  },
  {
   "cell_type": "code",
   "execution_count": 20,
   "metadata": {},
   "outputs": [
    {
     "ename": "ConnectionError",
     "evalue": "HTTPSConnectionPool(host='www.state.gov', port=443): Max retries exceeded with url: /independent-states-in-the-world/ (Caused by NewConnectionError('<urllib3.connection.HTTPSConnection object at 0x000001ED5CB16CD0>: Failed to establish a new connection: [Errno 11002] getaddrinfo failed'))",
     "output_type": "error",
     "traceback": [
      "\u001b[1;31m---------------------------------------------------------------------------\u001b[0m",
      "\u001b[1;31mgaierror\u001b[0m                                  Traceback (most recent call last)",
      "\u001b[1;32mC:\\Anaconda3\\lib\\site-packages\\urllib3\\connection.py\u001b[0m in \u001b[0;36m_new_conn\u001b[1;34m(self)\u001b[0m\n\u001b[0;32m    158\u001b[0m         \u001b[1;32mtry\u001b[0m\u001b[1;33m:\u001b[0m\u001b[1;33m\u001b[0m\u001b[1;33m\u001b[0m\u001b[0m\n\u001b[1;32m--> 159\u001b[1;33m             conn = connection.create_connection(\n\u001b[0m\u001b[0;32m    160\u001b[0m                 \u001b[1;33m(\u001b[0m\u001b[0mself\u001b[0m\u001b[1;33m.\u001b[0m\u001b[0m_dns_host\u001b[0m\u001b[1;33m,\u001b[0m \u001b[0mself\u001b[0m\u001b[1;33m.\u001b[0m\u001b[0mport\u001b[0m\u001b[1;33m)\u001b[0m\u001b[1;33m,\u001b[0m \u001b[0mself\u001b[0m\u001b[1;33m.\u001b[0m\u001b[0mtimeout\u001b[0m\u001b[1;33m,\u001b[0m \u001b[1;33m**\u001b[0m\u001b[0mextra_kw\u001b[0m\u001b[1;33m\u001b[0m\u001b[1;33m\u001b[0m\u001b[0m\n",
      "\u001b[1;32mC:\\Anaconda3\\lib\\site-packages\\urllib3\\util\\connection.py\u001b[0m in \u001b[0;36mcreate_connection\u001b[1;34m(address, timeout, source_address, socket_options)\u001b[0m\n\u001b[0;32m     60\u001b[0m \u001b[1;33m\u001b[0m\u001b[0m\n\u001b[1;32m---> 61\u001b[1;33m     \u001b[1;32mfor\u001b[0m \u001b[0mres\u001b[0m \u001b[1;32min\u001b[0m \u001b[0msocket\u001b[0m\u001b[1;33m.\u001b[0m\u001b[0mgetaddrinfo\u001b[0m\u001b[1;33m(\u001b[0m\u001b[0mhost\u001b[0m\u001b[1;33m,\u001b[0m \u001b[0mport\u001b[0m\u001b[1;33m,\u001b[0m \u001b[0mfamily\u001b[0m\u001b[1;33m,\u001b[0m \u001b[0msocket\u001b[0m\u001b[1;33m.\u001b[0m\u001b[0mSOCK_STREAM\u001b[0m\u001b[1;33m)\u001b[0m\u001b[1;33m:\u001b[0m\u001b[1;33m\u001b[0m\u001b[1;33m\u001b[0m\u001b[0m\n\u001b[0m\u001b[0;32m     62\u001b[0m         \u001b[0maf\u001b[0m\u001b[1;33m,\u001b[0m \u001b[0msocktype\u001b[0m\u001b[1;33m,\u001b[0m \u001b[0mproto\u001b[0m\u001b[1;33m,\u001b[0m \u001b[0mcanonname\u001b[0m\u001b[1;33m,\u001b[0m \u001b[0msa\u001b[0m \u001b[1;33m=\u001b[0m \u001b[0mres\u001b[0m\u001b[1;33m\u001b[0m\u001b[1;33m\u001b[0m\u001b[0m\n",
      "\u001b[1;32mC:\\Anaconda3\\lib\\socket.py\u001b[0m in \u001b[0;36mgetaddrinfo\u001b[1;34m(host, port, family, type, proto, flags)\u001b[0m\n\u001b[0;32m    917\u001b[0m     \u001b[0maddrlist\u001b[0m \u001b[1;33m=\u001b[0m \u001b[1;33m[\u001b[0m\u001b[1;33m]\u001b[0m\u001b[1;33m\u001b[0m\u001b[1;33m\u001b[0m\u001b[0m\n\u001b[1;32m--> 918\u001b[1;33m     \u001b[1;32mfor\u001b[0m \u001b[0mres\u001b[0m \u001b[1;32min\u001b[0m \u001b[0m_socket\u001b[0m\u001b[1;33m.\u001b[0m\u001b[0mgetaddrinfo\u001b[0m\u001b[1;33m(\u001b[0m\u001b[0mhost\u001b[0m\u001b[1;33m,\u001b[0m \u001b[0mport\u001b[0m\u001b[1;33m,\u001b[0m \u001b[0mfamily\u001b[0m\u001b[1;33m,\u001b[0m \u001b[0mtype\u001b[0m\u001b[1;33m,\u001b[0m \u001b[0mproto\u001b[0m\u001b[1;33m,\u001b[0m \u001b[0mflags\u001b[0m\u001b[1;33m)\u001b[0m\u001b[1;33m:\u001b[0m\u001b[1;33m\u001b[0m\u001b[1;33m\u001b[0m\u001b[0m\n\u001b[0m\u001b[0;32m    919\u001b[0m         \u001b[0maf\u001b[0m\u001b[1;33m,\u001b[0m \u001b[0msocktype\u001b[0m\u001b[1;33m,\u001b[0m \u001b[0mproto\u001b[0m\u001b[1;33m,\u001b[0m \u001b[0mcanonname\u001b[0m\u001b[1;33m,\u001b[0m \u001b[0msa\u001b[0m \u001b[1;33m=\u001b[0m \u001b[0mres\u001b[0m\u001b[1;33m\u001b[0m\u001b[1;33m\u001b[0m\u001b[0m\n",
      "\u001b[1;31mgaierror\u001b[0m: [Errno 11002] getaddrinfo failed",
      "\nDuring handling of the above exception, another exception occurred:\n",
      "\u001b[1;31mNewConnectionError\u001b[0m                        Traceback (most recent call last)",
      "\u001b[1;32mC:\\Anaconda3\\lib\\site-packages\\urllib3\\connectionpool.py\u001b[0m in \u001b[0;36murlopen\u001b[1;34m(self, method, url, body, headers, retries, redirect, assert_same_host, timeout, pool_timeout, release_conn, chunked, body_pos, **response_kw)\u001b[0m\n\u001b[0;32m    669\u001b[0m             \u001b[1;31m# Make the request on the httplib connection object.\u001b[0m\u001b[1;33m\u001b[0m\u001b[1;33m\u001b[0m\u001b[1;33m\u001b[0m\u001b[0m\n\u001b[1;32m--> 670\u001b[1;33m             httplib_response = self._make_request(\n\u001b[0m\u001b[0;32m    671\u001b[0m                 \u001b[0mconn\u001b[0m\u001b[1;33m,\u001b[0m\u001b[1;33m\u001b[0m\u001b[1;33m\u001b[0m\u001b[0m\n",
      "\u001b[1;32mC:\\Anaconda3\\lib\\site-packages\\urllib3\\connectionpool.py\u001b[0m in \u001b[0;36m_make_request\u001b[1;34m(self, conn, method, url, timeout, chunked, **httplib_request_kw)\u001b[0m\n\u001b[0;32m    380\u001b[0m         \u001b[1;32mtry\u001b[0m\u001b[1;33m:\u001b[0m\u001b[1;33m\u001b[0m\u001b[1;33m\u001b[0m\u001b[0m\n\u001b[1;32m--> 381\u001b[1;33m             \u001b[0mself\u001b[0m\u001b[1;33m.\u001b[0m\u001b[0m_validate_conn\u001b[0m\u001b[1;33m(\u001b[0m\u001b[0mconn\u001b[0m\u001b[1;33m)\u001b[0m\u001b[1;33m\u001b[0m\u001b[1;33m\u001b[0m\u001b[0m\n\u001b[0m\u001b[0;32m    382\u001b[0m         \u001b[1;32mexcept\u001b[0m \u001b[1;33m(\u001b[0m\u001b[0mSocketTimeout\u001b[0m\u001b[1;33m,\u001b[0m \u001b[0mBaseSSLError\u001b[0m\u001b[1;33m)\u001b[0m \u001b[1;32mas\u001b[0m \u001b[0me\u001b[0m\u001b[1;33m:\u001b[0m\u001b[1;33m\u001b[0m\u001b[1;33m\u001b[0m\u001b[0m\n",
      "\u001b[1;32mC:\\Anaconda3\\lib\\site-packages\\urllib3\\connectionpool.py\u001b[0m in \u001b[0;36m_validate_conn\u001b[1;34m(self, conn)\u001b[0m\n\u001b[0;32m    977\u001b[0m         \u001b[1;32mif\u001b[0m \u001b[1;32mnot\u001b[0m \u001b[0mgetattr\u001b[0m\u001b[1;33m(\u001b[0m\u001b[0mconn\u001b[0m\u001b[1;33m,\u001b[0m \u001b[1;34m\"sock\"\u001b[0m\u001b[1;33m,\u001b[0m \u001b[1;32mNone\u001b[0m\u001b[1;33m)\u001b[0m\u001b[1;33m:\u001b[0m  \u001b[1;31m# AppEngine might not have  `.sock`\u001b[0m\u001b[1;33m\u001b[0m\u001b[1;33m\u001b[0m\u001b[0m\n\u001b[1;32m--> 978\u001b[1;33m             \u001b[0mconn\u001b[0m\u001b[1;33m.\u001b[0m\u001b[0mconnect\u001b[0m\u001b[1;33m(\u001b[0m\u001b[1;33m)\u001b[0m\u001b[1;33m\u001b[0m\u001b[1;33m\u001b[0m\u001b[0m\n\u001b[0m\u001b[0;32m    979\u001b[0m \u001b[1;33m\u001b[0m\u001b[0m\n",
      "\u001b[1;32mC:\\Anaconda3\\lib\\site-packages\\urllib3\\connection.py\u001b[0m in \u001b[0;36mconnect\u001b[1;34m(self)\u001b[0m\n\u001b[0;32m    308\u001b[0m         \u001b[1;31m# Add certificate verification\u001b[0m\u001b[1;33m\u001b[0m\u001b[1;33m\u001b[0m\u001b[1;33m\u001b[0m\u001b[0m\n\u001b[1;32m--> 309\u001b[1;33m         \u001b[0mconn\u001b[0m \u001b[1;33m=\u001b[0m \u001b[0mself\u001b[0m\u001b[1;33m.\u001b[0m\u001b[0m_new_conn\u001b[0m\u001b[1;33m(\u001b[0m\u001b[1;33m)\u001b[0m\u001b[1;33m\u001b[0m\u001b[1;33m\u001b[0m\u001b[0m\n\u001b[0m\u001b[0;32m    310\u001b[0m         \u001b[0mhostname\u001b[0m \u001b[1;33m=\u001b[0m \u001b[0mself\u001b[0m\u001b[1;33m.\u001b[0m\u001b[0mhost\u001b[0m\u001b[1;33m\u001b[0m\u001b[1;33m\u001b[0m\u001b[0m\n",
      "\u001b[1;32mC:\\Anaconda3\\lib\\site-packages\\urllib3\\connection.py\u001b[0m in \u001b[0;36m_new_conn\u001b[1;34m(self)\u001b[0m\n\u001b[0;32m    170\u001b[0m         \u001b[1;32mexcept\u001b[0m \u001b[0mSocketError\u001b[0m \u001b[1;32mas\u001b[0m \u001b[0me\u001b[0m\u001b[1;33m:\u001b[0m\u001b[1;33m\u001b[0m\u001b[1;33m\u001b[0m\u001b[0m\n\u001b[1;32m--> 171\u001b[1;33m             raise NewConnectionError(\n\u001b[0m\u001b[0;32m    172\u001b[0m                 \u001b[0mself\u001b[0m\u001b[1;33m,\u001b[0m \u001b[1;34m\"Failed to establish a new connection: %s\"\u001b[0m \u001b[1;33m%\u001b[0m \u001b[0me\u001b[0m\u001b[1;33m\u001b[0m\u001b[1;33m\u001b[0m\u001b[0m\n",
      "\u001b[1;31mNewConnectionError\u001b[0m: <urllib3.connection.HTTPSConnection object at 0x000001ED5CB16CD0>: Failed to establish a new connection: [Errno 11002] getaddrinfo failed",
      "\nDuring handling of the above exception, another exception occurred:\n",
      "\u001b[1;31mMaxRetryError\u001b[0m                             Traceback (most recent call last)",
      "\u001b[1;32mC:\\Anaconda3\\lib\\site-packages\\requests\\adapters.py\u001b[0m in \u001b[0;36msend\u001b[1;34m(self, request, stream, timeout, verify, cert, proxies)\u001b[0m\n\u001b[0;32m    438\u001b[0m             \u001b[1;32mif\u001b[0m \u001b[1;32mnot\u001b[0m \u001b[0mchunked\u001b[0m\u001b[1;33m:\u001b[0m\u001b[1;33m\u001b[0m\u001b[1;33m\u001b[0m\u001b[0m\n\u001b[1;32m--> 439\u001b[1;33m                 resp = conn.urlopen(\n\u001b[0m\u001b[0;32m    440\u001b[0m                     \u001b[0mmethod\u001b[0m\u001b[1;33m=\u001b[0m\u001b[0mrequest\u001b[0m\u001b[1;33m.\u001b[0m\u001b[0mmethod\u001b[0m\u001b[1;33m,\u001b[0m\u001b[1;33m\u001b[0m\u001b[1;33m\u001b[0m\u001b[0m\n",
      "\u001b[1;32mC:\\Anaconda3\\lib\\site-packages\\urllib3\\connectionpool.py\u001b[0m in \u001b[0;36murlopen\u001b[1;34m(self, method, url, body, headers, retries, redirect, assert_same_host, timeout, pool_timeout, release_conn, chunked, body_pos, **response_kw)\u001b[0m\n\u001b[0;32m    725\u001b[0m \u001b[1;33m\u001b[0m\u001b[0m\n\u001b[1;32m--> 726\u001b[1;33m             retries = retries.increment(\n\u001b[0m\u001b[0;32m    727\u001b[0m                 \u001b[0mmethod\u001b[0m\u001b[1;33m,\u001b[0m \u001b[0murl\u001b[0m\u001b[1;33m,\u001b[0m \u001b[0merror\u001b[0m\u001b[1;33m=\u001b[0m\u001b[0me\u001b[0m\u001b[1;33m,\u001b[0m \u001b[0m_pool\u001b[0m\u001b[1;33m=\u001b[0m\u001b[0mself\u001b[0m\u001b[1;33m,\u001b[0m \u001b[0m_stacktrace\u001b[0m\u001b[1;33m=\u001b[0m\u001b[0msys\u001b[0m\u001b[1;33m.\u001b[0m\u001b[0mexc_info\u001b[0m\u001b[1;33m(\u001b[0m\u001b[1;33m)\u001b[0m\u001b[1;33m[\u001b[0m\u001b[1;36m2\u001b[0m\u001b[1;33m]\u001b[0m\u001b[1;33m\u001b[0m\u001b[1;33m\u001b[0m\u001b[0m\n",
      "\u001b[1;32mC:\\Anaconda3\\lib\\site-packages\\urllib3\\util\\retry.py\u001b[0m in \u001b[0;36mincrement\u001b[1;34m(self, method, url, response, error, _pool, _stacktrace)\u001b[0m\n\u001b[0;32m    445\u001b[0m         \u001b[1;32mif\u001b[0m \u001b[0mnew_retry\u001b[0m\u001b[1;33m.\u001b[0m\u001b[0mis_exhausted\u001b[0m\u001b[1;33m(\u001b[0m\u001b[1;33m)\u001b[0m\u001b[1;33m:\u001b[0m\u001b[1;33m\u001b[0m\u001b[1;33m\u001b[0m\u001b[0m\n\u001b[1;32m--> 446\u001b[1;33m             \u001b[1;32mraise\u001b[0m \u001b[0mMaxRetryError\u001b[0m\u001b[1;33m(\u001b[0m\u001b[0m_pool\u001b[0m\u001b[1;33m,\u001b[0m \u001b[0murl\u001b[0m\u001b[1;33m,\u001b[0m \u001b[0merror\u001b[0m \u001b[1;32mor\u001b[0m \u001b[0mResponseError\u001b[0m\u001b[1;33m(\u001b[0m\u001b[0mcause\u001b[0m\u001b[1;33m)\u001b[0m\u001b[1;33m)\u001b[0m\u001b[1;33m\u001b[0m\u001b[1;33m\u001b[0m\u001b[0m\n\u001b[0m\u001b[0;32m    447\u001b[0m \u001b[1;33m\u001b[0m\u001b[0m\n",
      "\u001b[1;31mMaxRetryError\u001b[0m: HTTPSConnectionPool(host='www.state.gov', port=443): Max retries exceeded with url: /independent-states-in-the-world/ (Caused by NewConnectionError('<urllib3.connection.HTTPSConnection object at 0x000001ED5CB16CD0>: Failed to establish a new connection: [Errno 11002] getaddrinfo failed'))",
      "\nDuring handling of the above exception, another exception occurred:\n",
      "\u001b[1;31mConnectionError\u001b[0m                           Traceback (most recent call last)",
      "\u001b[1;32m<ipython-input-20-adb703bf9894>\u001b[0m in \u001b[0;36m<module>\u001b[1;34m\u001b[0m\n\u001b[0;32m      1\u001b[0m \u001b[1;31m# Check that webpage access is successful\u001b[0m\u001b[1;33m\u001b[0m\u001b[1;33m\u001b[0m\u001b[1;33m\u001b[0m\u001b[0m\n\u001b[0;32m      2\u001b[0m \u001b[0murl\u001b[0m \u001b[1;33m=\u001b[0m \u001b[1;34m'https://www.state.gov/independent-states-in-the-world/'\u001b[0m\u001b[1;33m\u001b[0m\u001b[1;33m\u001b[0m\u001b[0m\n\u001b[1;32m----> 3\u001b[1;33m \u001b[0mresponse\u001b[0m \u001b[1;33m=\u001b[0m \u001b[0mrequests\u001b[0m\u001b[1;33m.\u001b[0m\u001b[0mget\u001b[0m\u001b[1;33m(\u001b[0m\u001b[0murl\u001b[0m\u001b[1;33m)\u001b[0m\u001b[1;33m\u001b[0m\u001b[1;33m\u001b[0m\u001b[0m\n\u001b[0m\u001b[0;32m      4\u001b[0m \u001b[0mresponse\u001b[0m\u001b[1;33m.\u001b[0m\u001b[0mstatus_code\u001b[0m\u001b[1;33m\u001b[0m\u001b[1;33m\u001b[0m\u001b[0m\n",
      "\u001b[1;32mC:\\Anaconda3\\lib\\site-packages\\requests\\api.py\u001b[0m in \u001b[0;36mget\u001b[1;34m(url, params, **kwargs)\u001b[0m\n\u001b[0;32m     74\u001b[0m \u001b[1;33m\u001b[0m\u001b[0m\n\u001b[0;32m     75\u001b[0m     \u001b[0mkwargs\u001b[0m\u001b[1;33m.\u001b[0m\u001b[0msetdefault\u001b[0m\u001b[1;33m(\u001b[0m\u001b[1;34m'allow_redirects'\u001b[0m\u001b[1;33m,\u001b[0m \u001b[1;32mTrue\u001b[0m\u001b[1;33m)\u001b[0m\u001b[1;33m\u001b[0m\u001b[1;33m\u001b[0m\u001b[0m\n\u001b[1;32m---> 76\u001b[1;33m     \u001b[1;32mreturn\u001b[0m \u001b[0mrequest\u001b[0m\u001b[1;33m(\u001b[0m\u001b[1;34m'get'\u001b[0m\u001b[1;33m,\u001b[0m \u001b[0murl\u001b[0m\u001b[1;33m,\u001b[0m \u001b[0mparams\u001b[0m\u001b[1;33m=\u001b[0m\u001b[0mparams\u001b[0m\u001b[1;33m,\u001b[0m \u001b[1;33m**\u001b[0m\u001b[0mkwargs\u001b[0m\u001b[1;33m)\u001b[0m\u001b[1;33m\u001b[0m\u001b[1;33m\u001b[0m\u001b[0m\n\u001b[0m\u001b[0;32m     77\u001b[0m \u001b[1;33m\u001b[0m\u001b[0m\n\u001b[0;32m     78\u001b[0m \u001b[1;33m\u001b[0m\u001b[0m\n",
      "\u001b[1;32mC:\\Anaconda3\\lib\\site-packages\\requests\\api.py\u001b[0m in \u001b[0;36mrequest\u001b[1;34m(method, url, **kwargs)\u001b[0m\n\u001b[0;32m     59\u001b[0m     \u001b[1;31m# cases, and look like a memory leak in others.\u001b[0m\u001b[1;33m\u001b[0m\u001b[1;33m\u001b[0m\u001b[1;33m\u001b[0m\u001b[0m\n\u001b[0;32m     60\u001b[0m     \u001b[1;32mwith\u001b[0m \u001b[0msessions\u001b[0m\u001b[1;33m.\u001b[0m\u001b[0mSession\u001b[0m\u001b[1;33m(\u001b[0m\u001b[1;33m)\u001b[0m \u001b[1;32mas\u001b[0m \u001b[0msession\u001b[0m\u001b[1;33m:\u001b[0m\u001b[1;33m\u001b[0m\u001b[1;33m\u001b[0m\u001b[0m\n\u001b[1;32m---> 61\u001b[1;33m         \u001b[1;32mreturn\u001b[0m \u001b[0msession\u001b[0m\u001b[1;33m.\u001b[0m\u001b[0mrequest\u001b[0m\u001b[1;33m(\u001b[0m\u001b[0mmethod\u001b[0m\u001b[1;33m=\u001b[0m\u001b[0mmethod\u001b[0m\u001b[1;33m,\u001b[0m \u001b[0murl\u001b[0m\u001b[1;33m=\u001b[0m\u001b[0murl\u001b[0m\u001b[1;33m,\u001b[0m \u001b[1;33m**\u001b[0m\u001b[0mkwargs\u001b[0m\u001b[1;33m)\u001b[0m\u001b[1;33m\u001b[0m\u001b[1;33m\u001b[0m\u001b[0m\n\u001b[0m\u001b[0;32m     62\u001b[0m \u001b[1;33m\u001b[0m\u001b[0m\n\u001b[0;32m     63\u001b[0m \u001b[1;33m\u001b[0m\u001b[0m\n",
      "\u001b[1;32mC:\\Anaconda3\\lib\\site-packages\\requests\\sessions.py\u001b[0m in \u001b[0;36mrequest\u001b[1;34m(self, method, url, params, data, headers, cookies, files, auth, timeout, allow_redirects, proxies, hooks, stream, verify, cert, json)\u001b[0m\n\u001b[0;32m    528\u001b[0m         }\n\u001b[0;32m    529\u001b[0m         \u001b[0msend_kwargs\u001b[0m\u001b[1;33m.\u001b[0m\u001b[0mupdate\u001b[0m\u001b[1;33m(\u001b[0m\u001b[0msettings\u001b[0m\u001b[1;33m)\u001b[0m\u001b[1;33m\u001b[0m\u001b[1;33m\u001b[0m\u001b[0m\n\u001b[1;32m--> 530\u001b[1;33m         \u001b[0mresp\u001b[0m \u001b[1;33m=\u001b[0m \u001b[0mself\u001b[0m\u001b[1;33m.\u001b[0m\u001b[0msend\u001b[0m\u001b[1;33m(\u001b[0m\u001b[0mprep\u001b[0m\u001b[1;33m,\u001b[0m \u001b[1;33m**\u001b[0m\u001b[0msend_kwargs\u001b[0m\u001b[1;33m)\u001b[0m\u001b[1;33m\u001b[0m\u001b[1;33m\u001b[0m\u001b[0m\n\u001b[0m\u001b[0;32m    531\u001b[0m \u001b[1;33m\u001b[0m\u001b[0m\n\u001b[0;32m    532\u001b[0m         \u001b[1;32mreturn\u001b[0m \u001b[0mresp\u001b[0m\u001b[1;33m\u001b[0m\u001b[1;33m\u001b[0m\u001b[0m\n",
      "\u001b[1;32mC:\\Anaconda3\\lib\\site-packages\\requests\\sessions.py\u001b[0m in \u001b[0;36msend\u001b[1;34m(self, request, **kwargs)\u001b[0m\n\u001b[0;32m    641\u001b[0m \u001b[1;33m\u001b[0m\u001b[0m\n\u001b[0;32m    642\u001b[0m         \u001b[1;31m# Send the request\u001b[0m\u001b[1;33m\u001b[0m\u001b[1;33m\u001b[0m\u001b[1;33m\u001b[0m\u001b[0m\n\u001b[1;32m--> 643\u001b[1;33m         \u001b[0mr\u001b[0m \u001b[1;33m=\u001b[0m \u001b[0madapter\u001b[0m\u001b[1;33m.\u001b[0m\u001b[0msend\u001b[0m\u001b[1;33m(\u001b[0m\u001b[0mrequest\u001b[0m\u001b[1;33m,\u001b[0m \u001b[1;33m**\u001b[0m\u001b[0mkwargs\u001b[0m\u001b[1;33m)\u001b[0m\u001b[1;33m\u001b[0m\u001b[1;33m\u001b[0m\u001b[0m\n\u001b[0m\u001b[0;32m    644\u001b[0m \u001b[1;33m\u001b[0m\u001b[0m\n\u001b[0;32m    645\u001b[0m         \u001b[1;31m# Total elapsed time of the request (approximately)\u001b[0m\u001b[1;33m\u001b[0m\u001b[1;33m\u001b[0m\u001b[1;33m\u001b[0m\u001b[0m\n",
      "\u001b[1;32mC:\\Anaconda3\\lib\\site-packages\\requests\\adapters.py\u001b[0m in \u001b[0;36msend\u001b[1;34m(self, request, stream, timeout, verify, cert, proxies)\u001b[0m\n\u001b[0;32m    514\u001b[0m                 \u001b[1;32mraise\u001b[0m \u001b[0mSSLError\u001b[0m\u001b[1;33m(\u001b[0m\u001b[0me\u001b[0m\u001b[1;33m,\u001b[0m \u001b[0mrequest\u001b[0m\u001b[1;33m=\u001b[0m\u001b[0mrequest\u001b[0m\u001b[1;33m)\u001b[0m\u001b[1;33m\u001b[0m\u001b[1;33m\u001b[0m\u001b[0m\n\u001b[0;32m    515\u001b[0m \u001b[1;33m\u001b[0m\u001b[0m\n\u001b[1;32m--> 516\u001b[1;33m             \u001b[1;32mraise\u001b[0m \u001b[0mConnectionError\u001b[0m\u001b[1;33m(\u001b[0m\u001b[0me\u001b[0m\u001b[1;33m,\u001b[0m \u001b[0mrequest\u001b[0m\u001b[1;33m=\u001b[0m\u001b[0mrequest\u001b[0m\u001b[1;33m)\u001b[0m\u001b[1;33m\u001b[0m\u001b[1;33m\u001b[0m\u001b[0m\n\u001b[0m\u001b[0;32m    517\u001b[0m \u001b[1;33m\u001b[0m\u001b[0m\n\u001b[0;32m    518\u001b[0m         \u001b[1;32mexcept\u001b[0m \u001b[0mClosedPoolError\u001b[0m \u001b[1;32mas\u001b[0m \u001b[0me\u001b[0m\u001b[1;33m:\u001b[0m\u001b[1;33m\u001b[0m\u001b[1;33m\u001b[0m\u001b[0m\n",
      "\u001b[1;31mConnectionError\u001b[0m: HTTPSConnectionPool(host='www.state.gov', port=443): Max retries exceeded with url: /independent-states-in-the-world/ (Caused by NewConnectionError('<urllib3.connection.HTTPSConnection object at 0x000001ED5CB16CD0>: Failed to establish a new connection: [Errno 11002] getaddrinfo failed'))"
     ]
    }
   ],
   "source": [
    "# Check that webpage access is successful\n",
    "url = 'https://www.state.gov/independent-states-in-the-world/'\n",
    "response = requests.get(url)\n",
    "response.status_code"
   ]
  },
  {
   "cell_type": "code",
   "execution_count": null,
   "metadata": {},
   "outputs": [],
   "source": [
    "# Scrape table, code based on pluralsight.com/guides/extracting-data-html-beautifulsoup\n",
    "# and kite.com/python/examples/4420/beautifulsoup-parse-an-html-table-and-write-to-a-csv\n",
    "\n",
    "html_content = requests.get(url).text\n",
    "soup = BeautifulSoup(html_content, 'lxml')\n",
    "table = soup.find('table')\n",
    "\n",
    "output_rows = []\n",
    "for table_row in table.findAll('tr'):\n",
    "    columns = table_row.findAll('td')\n",
    "    output_row = []\n",
    "    for column in columns:\n",
    "        output_row.append(column.text)\n",
    "    output_rows.append(output_row)\n",
    "\n",
    "df_USDS_raw = pd.DataFrame(data=output_rows[1:], columns=output_rows[0])\n",
    "df_USDS_raw"
   ]
  },
  {
   "cell_type": "markdown",
   "metadata": {},
   "source": [
    "There are 195 independent States according to the USDS."
   ]
  },
  {
   "cell_type": "code",
   "execution_count": null,
   "metadata": {},
   "outputs": [],
   "source": [
    "df_USDS = df_USDS_raw[['Short-form name', 'GENC 2A Code (see Note 2)']].copy()\n",
    "df_USDS.columns = ['country_USDS', 'code']\n",
    "df_USDS[30:60]"
   ]
  },
  {
   "cell_type": "markdown",
   "metadata": {},
   "source": [
    "This sample of the table shows that country names contain extra characters and notes which can be removed for better readability."
   ]
  },
  {
   "cell_type": "code",
   "execution_count": null,
   "metadata": {
    "scrolled": false
   },
   "outputs": [],
   "source": [
    "# Remove extra characters and notes from country names\n",
    "\n",
    "# Remove '(see note [digit])'\n",
    "for name in df_USDS.loc[:,'country_USDS']:\n",
    "    if re.findall(r'[0-9]', name):\n",
    "        df_USDS.loc[:,'country_USDS'][df_USDS.loc[:,'country_USDS'] == name] = name[:-13]\n",
    "\n",
    "# Remove '\\n' '*+' white spaces and no-break space left of Eswatini\n",
    "df_USDS.loc[:,'country_USDS'] = df_USDS.loc[:,'country_USDS']\\\n",
    "                                       .str.replace('\\n','')\\\n",
    "                                       .str.lstrip('\\xa0')\\\n",
    "                                       .str.rstrip(' *+')\n",
    "\n",
    "# Remove no-break space left of Eswatini country code\n",
    "df_USDS.loc[:,'code'] = df_USDS.loc[:,'code'].str.lstrip('\\xa0 ')\n",
    "\n",
    "# Print subset of column to check that strings have been formatted correctly\n",
    "df_USDS[30:60]"
   ]
  },
  {
   "cell_type": "code",
   "execution_count": null,
   "metadata": {},
   "outputs": [],
   "source": [
    "# Merge list of independent States with list of countries in EF dataset for comparison\n",
    "df_ef2016_merge_outer = pd.merge(df_USDS, df_ef2016_pivot[['country', 'code']], how='outer', on='code')\n",
    "df_ef2016_merge_outer"
   ]
  },
  {
   "cell_type": "code",
   "execution_count": null,
   "metadata": {},
   "outputs": [],
   "source": [
    "# Check that merge is successful\n",
    "df_ef2016_merge_outer.info()"
   ]
  },
  {
   "cell_type": "markdown",
   "metadata": {},
   "source": [
    "The following cell displays the independent States not included in the EF dataset."
   ]
  },
  {
   "cell_type": "code",
   "execution_count": null,
   "metadata": {},
   "outputs": [],
   "source": [
    "missing_states = df_ef2016_merge_outer[df_ef2016_merge_outer['country'].isna()]\n",
    "print(missing_states)\n",
    "print()\n",
    "print(f'Number of independent countries not included in EF dataset:\\\n",
    " {len(missing_states)}')"
   ]
  },
  {
   "cell_type": "markdown",
   "metadata": {},
   "source": [
    "It is also interesting to see which are the 10 out of the 187 countries listed in the EF dataset that are not independent."
   ]
  },
  {
   "cell_type": "code",
   "execution_count": null,
   "metadata": {},
   "outputs": [],
   "source": [
    "additional_territories = df_ef2016_merge_outer[df_ef2016_merge_outer['country_USDS'].isna()]\n",
    "print(additional_territories)\n",
    "print()\n",
    "print(f'Number of dependent territories included in EF dataset:\\\n",
    " {len(additional_territories)}')"
   ]
  },
  {
   "cell_type": "markdown",
   "metadata": {
    "hide_input": false
   },
   "source": [
    "10 dependent territories are included in the EF dataset with a computed ecological footprint. As they are not independent states they have not been included in the HDI, along with North Korea and Somalia, as shown in the table below."
   ]
  },
  {
   "cell_type": "code",
   "execution_count": null,
   "metadata": {},
   "outputs": [],
   "source": [
    "# Display EF dataset countries/territories with no HDI\n",
    "df_ef2016_pivot[df_ef2016_pivot['HDI'].isna()]"
   ]
  },
  {
   "cell_type": "markdown",
   "metadata": {},
   "source": [
    "Now that we better understand the coverage of the dataset, it would be interesting to include information about the region to which each country belongs as it would provide a better overview of the geographical distribution of the scores of both indicators."
   ]
  },
  {
   "cell_type": "markdown",
   "metadata": {},
   "source": [
    "## 2.3 Import list of countries with regions from GitHub repository"
   ]
  },
  {
   "cell_type": "markdown",
   "metadata": {},
   "source": [
    "This information can be obtained from different places. A list built by [GitHub user *lukes*](https://github.com/lukes/ISO-3166-Countries-with-Regional-Codes) last updated on 19 March 2019 will be imported here. This list has been obtained by merging two sources, the [Wikipedia ISO 3166-1 article](https://en.wikipedia.org/wiki/ISO_3166-1#Officially_assigned_code_elements) table containing the alpha and numeric country codes, and the [United Nations Statistics Division table](https://unstats.un.org/unsd/methodology/m49/overview) containing regional, and sub-regional names and codes. The information on regions may also be obtained by downloading a CSV or Excel file from the [United Nations Statistics Division page](https://unstats.un.org/unsd/methodology/m49/overview)."
   ]
  },
  {
   "cell_type": "code",
   "execution_count": null,
   "metadata": {},
   "outputs": [],
   "source": [
    "# Note: set keep_default_na to False to avoid Namibia code NA from being\n",
    "# interpreted as NaN when merging dataframes later on\n",
    "url = 'https://raw.githubusercontent.com/lukes/ISO-3166-Countries-with-Regional-Codes/master/all/all.csv'\n",
    "df_regions_raw = pd.read_csv(url, keep_default_na=False)\n",
    "df_regions_raw"
   ]
  },
  {
   "cell_type": "code",
   "execution_count": null,
   "metadata": {},
   "outputs": [],
   "source": [
    "df_regions = df_regions_raw[['alpha-2', 'region']]\n",
    "df_regions.columns = ['code', 'continent']\n",
    "df_regions"
   ]
  },
  {
   "cell_type": "code",
   "execution_count": null,
   "metadata": {},
   "outputs": [],
   "source": [
    "# Merge df_ef2016_pivot with df_regions to get continents for all\n",
    "# countries and territories\n",
    "df_ef2016 = pd.merge(df_ef2016_pivot, df_regions, how='left', on='code')\n",
    "df_ef2016"
   ]
  },
  {
   "cell_type": "code",
   "execution_count": null,
   "metadata": {
    "scrolled": true
   },
   "outputs": [],
   "source": [
    "# Check that merge is successful\n",
    "df_ef2016.info()"
   ]
  },
  {
   "cell_type": "markdown",
   "metadata": {},
   "source": [
    "The merging appears to be successful as all countries and territories have an attributed continent."
   ]
  },
  {
   "cell_type": "markdown",
   "metadata": {},
   "source": [
    "# 3. Data analysis"
   ]
  },
  {
   "cell_type": "markdown",
   "metadata": {},
   "source": [
    "Now that the dataset is ready for further analysis, it is time to look at the distribution of the country scores for the EF and HDI grouped by continent and to visualize the relationship between these two variables."
   ]
  },
  {
   "cell_type": "markdown",
   "metadata": {},
   "source": [
    "## 3.1 Ecological Footprint by continent"
   ]
  },
  {
   "cell_type": "code",
   "execution_count": null,
   "metadata": {},
   "outputs": [],
   "source": [
    "data=df_ef2016\n",
    "var_cat='continent'\n",
    "var_num='Earths'\n",
    "\n",
    "# Draw boxplots overlaid with stripplots of EF scores grouped by continent\n",
    "# Note: the boxplots are drawn with whiskers that reach out to farthest\n",
    "# data point within the interval contained by the 5th and 95th percentiles\n",
    "fig, ax = plt.subplots(figsize=(7, 7))\n",
    "sns.boxplot(data=data, x=var_cat, y=var_num, whis=(5, 95), linewidth=1,\n",
    "            width=0.3, fliersize=False, saturation=1)\n",
    "sns.stripplot(data=data, x=var_cat, y=var_num, color=\"k\", alpha=0.6, size=3)\n",
    "\n",
    "# Add horizontal line for one planet limit and additional formatting\n",
    "ax.axhline(1, color='grey', ls='dashed', alpha=0.5)\n",
    "ax.set_xlabel('Continent', size=12, labelpad=15)\n",
    "ax.set_ylabel('Earths', size=12, labelpad=15)\n",
    "sns.despine();"
   ]
  },
  {
   "cell_type": "markdown",
   "metadata": {},
   "source": [
    "The dashed line represents the one planet limit. The boxplots are drawn with whiskers that reach out to farthest data point within the interval contained by the 5th and 95th percentiles. Countries from both Europe and Oceania are all consuming in excess of Earth's resources, as well as nearly all of North and South American countries with a few exceptions:"
   ]
  },
  {
   "cell_type": "code",
   "execution_count": null,
   "metadata": {},
   "outputs": [],
   "source": [
    "df_ef2016[(df_ef2016['Earths']<=1) & (df_ef2016['continent']=='Americas')]"
   ]
  },
  {
   "cell_type": "markdown",
   "metadata": {},
   "source": [
    "Many Asian and African countries appear to be within the planet's limits. These can be identified in the scatterplot further below.\n",
    "\n",
    "African countries are very frugal in their consumption, very few exceed the 2 Earths mark:"
   ]
  },
  {
   "cell_type": "code",
   "execution_count": null,
   "metadata": {},
   "outputs": [],
   "source": [
    "df_ef2016[(df_ef2016['Earths']>=2) & (df_ef2016['continent']=='Africa')]"
   ]
  },
  {
   "cell_type": "markdown",
   "metadata": {},
   "source": [
    "Asian countries on the other hand show a very wide distribution in resource consumption. Their EF ranges from 0.3 Earth equivalents up to 8.8 with a median of 1.3:"
   ]
  },
  {
   "cell_type": "code",
   "execution_count": null,
   "metadata": {},
   "outputs": [],
   "source": [
    "df_ef2016[df_ef2016['continent']=='Asia']['Earths'].describe()"
   ]
  },
  {
   "cell_type": "markdown",
   "metadata": {},
   "source": [
    "## 3.2 Human Development Index by continent"
   ]
  },
  {
   "cell_type": "code",
   "execution_count": null,
   "metadata": {},
   "outputs": [],
   "source": [
    "data=df_ef2016.dropna(axis=0, how='any') # Drop rows with NaN (present only in HDI column)\n",
    "var_cat='continent'\n",
    "var_num='HDI'\n",
    "\n",
    "# Draw boxplots overlaid with stripplots of HDI scores grouped by continent\n",
    "fig, ax = plt.subplots(figsize=(7, 7))\n",
    "sns.boxplot(data=data, x=var_cat, y=var_num, whis=(5, 95), linewidth=1,\n",
    "            width=0.3, fliersize=False, saturation=1)\n",
    "sns.stripplot(data=data, x=var_cat, y=var_num, color=\"k\", alpha=0.6, size=3)\n",
    "\n",
    "# Additional formatting\n",
    "ax.set_xlabel('Continent', size=12, labelpad=15)\n",
    "ax.set_ylabel('HDI', size=12, labelpad=15)\n",
    "sns.despine();"
   ]
  },
  {
   "cell_type": "markdown",
   "metadata": {},
   "source": [
    "The HDI scores are widely spread within each continent and a few countries stand out as high-performers while some others lag behind the rest. These outliers are the following:"
   ]
  },
  {
   "cell_type": "code",
   "execution_count": null,
   "metadata": {},
   "outputs": [],
   "source": [
    "# HDI scores bottom 5% of each continent\n",
    "df_ef2016.groupby('continent')\\\n",
    "         .apply(lambda df: df[df['HDI'] <= df['HDI'].quantile(0.05)])"
   ]
  },
  {
   "cell_type": "code",
   "execution_count": null,
   "metadata": {},
   "outputs": [],
   "source": [
    "# HDI scores top 5% of each continent\n",
    "df_ef2016.groupby('continent')\\\n",
    "         .apply(lambda df: df[df['HDI'] >= df['HDI'].quantile(0.95)])"
   ]
  },
  {
   "cell_type": "markdown",
   "metadata": {},
   "source": [
    "## 3.3 Ecological Footprint vs Human Development Index"
   ]
  },
  {
   "cell_type": "code",
   "execution_count": null,
   "metadata": {
    "scrolled": false
   },
   "outputs": [],
   "source": [
    "# Draw interactive scatterplot of EF vs HDI using Altair library\n",
    "\n",
    "base = alt.Chart(df_ef2016)\n",
    "\n",
    "# Draw circles\n",
    "circle = base.mark_circle(clip=True).encode(\n",
    "    x=alt.X('HDI', title='Human Development Index 2016'),\n",
    "    y=alt.Y('Earths', title='Ecological Footprint (Earths equivalent)'),\n",
    "    color='continent',\n",
    "    tooltip=['country',\n",
    "             alt.Tooltip('HDI:Q', format='.2f'),\n",
    "             alt.Tooltip('Earths:Q', format='.2f'),\n",
    "             alt.Tooltip('population:Q', format=',')]\n",
    ").properties(\n",
    "    width=600,\n",
    "    height=400\n",
    ").interactive()\n",
    "\n",
    "# Draw horizontal dashed line\n",
    "Earth_limit = alt.Chart(pd.DataFrame({'y': [1]})).mark_rule(\n",
    "    color=\"#808080\",\n",
    "    strokeDash=[4,4]\n",
    ").encode(\n",
    "    y='y')\n",
    "\n",
    "# Draw vertical dashed line\n",
    "HDI_median = base.mark_rule(\n",
    "    color=\"#808080\",\n",
    "    strokeDash=[4,4]\n",
    ").encode(\n",
    "    x='median(HDI)'\n",
    ")\n",
    "\n",
    "circle + Earth_limit + HDI_median"
   ]
  },
  {
   "cell_type": "markdown",
   "metadata": {},
   "source": [
    "The horizontal dashed line marks the one planet limit. The vertical dashed line marks the median HDI. Nearly all countries consuming resources within Earth's total biocapacity score low on the HDI. The only exception is Sri Lanka which has an HDI score of 0.77 while maintaining consumption at a sustainable level. It is followed by Jamaica with an HDI score of 0.73 just below the median HDI. All other countries in the the top half of HDI scores are consuming resources at an unsustainable level.\n",
    "\n",
    "The duty of policy-makers and other development stakeholders is to shift countries to the bottom-right quadrant. This means that those in high-consumption countries must put in place policies to decrease resource use, while those in low-consumption countries must find alternative ways to increase health, education and standard of living, as they cannot follow the development path of high-consumption countries.\n",
    "\n",
    "In facing these challenges, it can be interesting to look more closely at which countries are the most efficient in resource consumption relative to their HDI score. Knowing which countries are most resource-efficient per HDI point may bring to light successful policies that may serve as examples for others. The development efficiency indicator is computed in the next section to identify those countries."
   ]
  },
  {
   "cell_type": "markdown",
   "metadata": {},
   "source": [
    "## 3.4 Development efficiency"
   ]
  },
  {
   "cell_type": "code",
   "execution_count": null,
   "metadata": {
    "scrolled": true
   },
   "outputs": [],
   "source": [
    "df_ef2016['development_efficiency'] = df_ef2016['HDI']/df_ef2016['Earths']\n",
    "df_ef2016['development_efficiency'].describe()"
   ]
  },
  {
   "cell_type": "code",
   "execution_count": null,
   "metadata": {},
   "outputs": [],
   "source": [
    "# Draw development efficiency histogram\n",
    "hist_align_bins(variable=df_ef2016['development_efficiency'],\n",
    "                xlabel='Development Efficiency (HDI/Earths)',\n",
    "                title='Distribution of Development Efficiency scores',\n",
    "                bin_width=0.1)"
   ]
  },
  {
   "cell_type": "code",
   "execution_count": null,
   "metadata": {},
   "outputs": [],
   "source": [
    "# Development efficienty top 10\n",
    "df_ef2016.nlargest(10, 'development_efficiency')"
   ]
  },
  {
   "cell_type": "markdown",
   "metadata": {},
   "source": [
    "Among the top 10 countries in terms of development efficiency, none are even close to the median HDI, only Timor-Leste and Tajikistan make it above the 0.6 mark. To get a list of potential standard-setters, we can further refine the list by setting a minimum HDI."
   ]
  },
  {
   "cell_type": "code",
   "execution_count": null,
   "metadata": {},
   "outputs": [],
   "source": [
    "# Select top 10 countries with near and above median HDI\n",
    "df_ef2016[df_ef2016['HDI'] >= 0.7].nlargest(10, 'development_efficiency')"
   ]
  },
  {
   "cell_type": "markdown",
   "metadata": {},
   "source": [
    "As observed in the scatterplot, only Sri Lanka and Jamaica are within the one planet limit, with a near-median HDI. Uruguay stands out as the only country reaching the 0.8 HDI mark. Albania makes it in the list as the only European country and, along with the last three countries in the list, it is considered as an economy in transition by the United Nations country classification in the [World Economic Situation and Prospects report from 2019](https://www.un.org/development/desa/dpad/wp-content/uploads/sites/45/WESP2019_BOOK-ANNEX-en.pdf). The other 6 countries are considered to be developing economies.\n",
    "\n",
    "Each of these countries would have to be studied further to better understand how they score so high on the HDI in such a resource-efficient manner. Some of them may have policies in place that could serve as examples of good practice for other countries facing similar challenges."
   ]
  },
  {
   "cell_type": "markdown",
   "metadata": {},
   "source": [
    "Finally, we can have a look at what countries are the least resource efficient relative to the HDI:"
   ]
  },
  {
   "cell_type": "code",
   "execution_count": null,
   "metadata": {},
   "outputs": [],
   "source": [
    "# Development efficiency bottom 10\n",
    "df_ef2016.nsmallest(10, 'development_efficiency')"
   ]
  },
  {
   "cell_type": "markdown",
   "metadata": {},
   "source": [
    "These are mainly fossil fuel producing countries with the exception of Luxembourg. These countries would have to be investigated further to better understand why they make it into this list."
   ]
  },
  {
   "cell_type": "markdown",
   "metadata": {},
   "source": [
    "# 4. Conclusion"
   ]
  },
  {
   "cell_type": "markdown",
   "metadata": {},
   "source": [
    "This analysis has shed some light on the situation of countries regarding their ecological footprint and their level of development. Sri Lanka stands out as being the only country with a sustainable level resource consumption while achieving an above-median score on the HDI. None of the countries among what are considered as developed economies according to the United Nations are even close to the one planet limit, most are well above the 2 Earths mark, with the exception of Romania.\n",
    "\n",
    "This goes to show that all countries still have a lot of work to do in order to achieve a sustainable level of development on both social and environmental issues. As the UN Sustainable Development Goals are becoming the new benchmark for assessing the level of development of countries, one could question the use of the classification 'developed', 'in transition', and 'developing', as the scores on the ecological footprint clearly show that the so-called developed countries still have a way to go in order to achieve a sustainable level of consumption while maintaining a high standard of living."
   ]
  }
 ],
 "metadata": {
  "hide_input": false,
  "kernelspec": {
   "display_name": "Python 3",
   "language": "python",
   "name": "python3"
  },
  "language_info": {
   "codemirror_mode": {
    "name": "ipython",
    "version": 3
   },
   "file_extension": ".py",
   "mimetype": "text/x-python",
   "name": "python",
   "nbconvert_exporter": "python",
   "pygments_lexer": "ipython3",
   "version": "3.8.5"
  },
  "toc": {
   "base_numbering": 1,
   "nav_menu": {},
   "number_sections": false,
   "sideBar": true,
   "skip_h1_title": false,
   "title_cell": "Table of Contents",
   "title_sidebar": "Contents",
   "toc_cell": true,
   "toc_position": {
    "height": "calc(100% - 180px)",
    "left": "10px",
    "top": "150px",
    "width": "165px"
   },
   "toc_section_display": true,
   "toc_window_display": true
  },
  "varInspector": {
   "cols": {
    "lenName": 16,
    "lenType": 16,
    "lenVar": 40
   },
   "kernels_config": {
    "python": {
     "delete_cmd_postfix": "",
     "delete_cmd_prefix": "del ",
     "library": "var_list.py",
     "varRefreshCmd": "print(var_dic_list())"
    },
    "r": {
     "delete_cmd_postfix": ") ",
     "delete_cmd_prefix": "rm(",
     "library": "var_list.r",
     "varRefreshCmd": "cat(var_dic_list()) "
    }
   },
   "types_to_exclude": [
    "module",
    "function",
    "builtin_function_or_method",
    "instance",
    "_Feature"
   ],
   "window_display": false
  }
 },
 "nbformat": 4,
 "nbformat_minor": 4
}
